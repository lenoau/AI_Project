{
 "cells": [
  {
   "cell_type": "code",
   "execution_count": 1,
   "metadata": {},
   "outputs": [],
   "source": [
    "# pip install torch-scatter torch-sparse torch-cluster torch-spline-conv torch-geometric -f https://data.pyg.org/whl/torch-2.5.1+cu118.html\n",
    "# pip install fastapi uvicorn\n",
    "# pip install sqlalchemy"
   ]
  },
  {
   "cell_type": "code",
   "execution_count": 17,
   "metadata": {},
   "outputs": [],
   "source": [
    "import torch\n",
    "import torch.nn as nn\n",
    "from torch_geometric.nn import GCNConv, global_mean_pool, GATConv\n",
    "from torch_geometric.data import Data\n",
    "from tqdm.auto import tqdm\n",
    "import matplotlib.pyplot as plt\n",
    "plt.rc('font', family='NanumBarunGothic') \n",
    "device = torch.device(\"cuda\" if torch.cuda.is_available() else \"cpu\")"
   ]
  },
  {
   "cell_type": "code",
   "execution_count": 16,
   "metadata": {},
   "outputs": [
    {
     "name": "stdout",
     "output_type": "stream",
     "text": [
      "Sigmoid Output: tensor([[0.5100]], grad_fn=<SigmoidBackward0>)\n"
     ]
    }
   ],
   "source": [
    "class EnhancedGNNLSTMModel(nn.Module):\n",
    "    def __init__(self, node_feature_dim, edge_feature_dim, hidden_dim, output_dim):\n",
    "        super(EnhancedGNNLSTMModel, self).__init__()\n",
    "        \n",
    "        # GNN Layers\n",
    "        self.gnn1 = GATConv(node_feature_dim, hidden_dim)\n",
    "        self.gnn2 = GATConv(hidden_dim, hidden_dim)\n",
    "        self.gnn3 = GCNConv(hidden_dim, hidden_dim)\n",
    "        \n",
    "        # Graph Pooling\n",
    "        self.pool = global_mean_pool\n",
    "        \n",
    "        # LSTM Layers\n",
    "        self.lstm = nn.LSTM(hidden_dim, hidden_dim, num_layers=2, bidirectional=True, batch_first=True)\n",
    "        \n",
    "        # Attention Mechanism\n",
    "        self.attention = nn.Linear(hidden_dim * 2, 1)\n",
    "        \n",
    "        # Final Output Layer\n",
    "        self.fc = nn.Linear(hidden_dim * 2, output_dim)\n",
    "\n",
    "    def forward(self, data):\n",
    "        x, edge_index, batch = data.x, data.edge_index, data.batch\n",
    "\n",
    "        # GNN Forward Pass\n",
    "        x = self.gnn1(x, edge_index)\n",
    "        x = torch.relu(x)\n",
    "        x = self.gnn2(x, edge_index)\n",
    "        x = torch.relu(x)\n",
    "        x = self.gnn3(x, edge_index)\n",
    "        x = torch.relu(x)\n",
    "\n",
    "        # Pooling\n",
    "        x = self.pool(x, batch)\n",
    "\n",
    "        # Reshape for LSTM (batch, sequence_length, feature_dim)\n",
    "        x = x.unsqueeze(1)\n",
    "\n",
    "        # LSTM Forward Pass\n",
    "        lstm_out, _ = self.lstm(x)\n",
    "\n",
    "        # Attention Mechanism\n",
    "        attn_weights = torch.softmax(self.attention(lstm_out).squeeze(-1), dim=1)\n",
    "        context = torch.bmm(attn_weights.unsqueeze(1), lstm_out).squeeze(1)\n",
    "\n",
    "        # Output Layer\n",
    "        out = self.fc(context)\n",
    "        return out\n",
    "\n",
    "# Example Data for Testing\n",
    "def create_example_data():\n",
    "    node_features = torch.rand((9, 3))  # 5 nodes, 3 features each\n",
    "    edge_index = torch.tensor([[0, 1, 2, 3, 4, 0],\n",
    "                                [1, 2, 3, 4, 0, 2]])  # 6 edges\n",
    "    edge_attr = torch.rand((6, 2))  # 6 edges, 2 features each\n",
    "    batch = torch.tensor([0, 0, 0, 0, 0, 0, 0, 0, 0])  # Single graph in batch\n",
    "\n",
    "    data = Data(x=node_features, edge_index=edge_index, edge_attr=edge_attr, batch=batch)\n",
    "    return data\n",
    "\n",
    "# Model and Example\n",
    "node_feature_dim = 3\n",
    "edge_feature_dim = 2\n",
    "hidden_dim = 16\n",
    "output_dim = 1\n",
    "\n",
    "model = EnhancedGNNLSTMModel(node_feature_dim, edge_feature_dim, hidden_dim, output_dim)\n",
    "data = create_example_data()\n",
    "\n",
    "# Forward Pass\n",
    "output = model(data)\n",
    "out = torch.sigmoid(output)\n",
    "print(\"Sigmoid Output:\", out)\n"
   ]
  },
  {
   "cell_type": "code",
   "execution_count": 2,
   "metadata": {},
   "outputs": [],
   "source": [
    "from fastapi import FastAPI\n",
    "\n",
    "app = FastAPI()\n",
    "\n",
    "@app.get('/')\n",
    "def 작명():\n",
    "    return 'hello world'"
   ]
  },
  {
   "cell_type": "code",
   "execution_count": 1,
   "metadata": {},
   "outputs": [
    {
     "name": "stdout",
     "output_type": "stream",
     "text": [
      "Note: you may need to restart the kernel to use updated packages.\n"
     ]
    },
    {
     "name": "stderr",
     "output_type": "stream",
     "text": [
      "ERROR: Could not find a version that satisfies the requirement sqlite (from versions: none)\n",
      "ERROR: No matching distribution found for sqlite\n"
     ]
    }
   ],
   "source": []
  }
 ],
 "metadata": {
  "kernelspec": {
   "display_name": "torch_book",
   "language": "python",
   "name": "python3"
  },
  "language_info": {
   "codemirror_mode": {
    "name": "ipython",
    "version": 3
   },
   "file_extension": ".py",
   "mimetype": "text/x-python",
   "name": "python",
   "nbconvert_exporter": "python",
   "pygments_lexer": "ipython3",
   "version": "3.12.6"
  }
 },
 "nbformat": 4,
 "nbformat_minor": 2
}
