{
 "cells": [
  {
   "cell_type": "code",
   "execution_count": 73,
   "metadata": {},
   "outputs": [],
   "source": [
    "import pandas as pd\n",
    "import numpy as np\n",
    "import matplotlib.pyplot as plt\n",
    "import pickle\n",
    "import tensorflow as tf\n",
    "from tensorflow.keras.models import load_model\n",
    "from tensorflow.keras.losses import MeanSquaredError\n",
    "import tensorflow.keras.backend as K\n",
    "import pickle\n",
    "from sklearn.metrics import confusion_matrix, classification_report\n",
    "import seaborn as sns"
   ]
  },
  {
   "cell_type": "code",
   "execution_count": 74,
   "metadata": {},
   "outputs": [
    {
     "name": "stderr",
     "output_type": "stream",
     "text": [
      "WARNING:absl:Compiled the loaded model, but the compiled metrics have yet to be built. `model.compile_metrics` will be empty until you train or evaluate the model.\n"
     ]
    },
    {
     "name": "stdout",
     "output_type": "stream",
     "text": [
      "불러온 임계치: 0.3336428704486248\n"
     ]
    }
   ],
   "source": [
    "# 1. 저장된 모델, 임계치, 인코더더 불러오기\n",
    "loaded_model = load_model('./LSTM_결과/임계치_0.3336_2.h5', custom_objects={'mse': MeanSquaredError()})\n",
    "\n",
    "# 임계치 불러오기\n",
    "with open('./LSTM_결과/임계치_0.3336_2.pkl', 'rb') as f:\n",
    "    threshold = pickle.load(f)\n",
    "\n",
    "# LabelEncoder 불러오기\n",
    "with open('./LSTM_결과/event_type_encoder2.pkl', 'rb') as f:\n",
    "    le_event = pickle.load(f)\n",
    "\n",
    "with open('./LSTM_결과/hub_type_encoder2.pkl', 'rb') as f:\n",
    "    le_hub = pickle.load(f)\n",
    "\n",
    "# MinMaxScaler 불러오기\n",
    "with open('./LSTM_결과/scaler2.pkl', 'rb') as f:\n",
    "    scaler = pickle.load(f)\n",
    "\n",
    "# 새로운 Label 처리\n",
    "def safe_transform(le, values):\n",
    "    # LabelEncoder에 없는 새로운 값 찾기\n",
    "    unknown_values = set(values) - set(le.classes_)\n",
    "    \n",
    "    # 새로운 값이 있으면 LabelEncoder 클래스에 추가\n",
    "    if unknown_values:\n",
    "        print(f\"Warning: 새로운 값 발견 {unknown_values}. 새로운 라벨로 추가합니다.\")\n",
    "        le.classes_ = np.append(le.classes_, list(unknown_values))\n",
    "    else:\n",
    "        print(\"새로운 값이 없습니다. 기존 클래스만 변환합니다.\")\n",
    "\n",
    "    return le.transform(values)\n",
    "\n",
    "print(\"불러온 임계치:\", threshold)"
   ]
  },
  {
   "cell_type": "code",
   "execution_count": 75,
   "metadata": {},
   "outputs": [],
   "source": [
    "# 2. 테스트 데이터 불러오기  \n",
    "df_normal_test = pd.read_csv(\"./Data/실험데이터_정상_100ver01.csv\")\n",
    "df_anomaly_test = pd.read_csv(\"./Data/실험데이터_이상_31ver01.csv\", encoding='cp949')\n",
    "\n",
    "# 각 데이터에 레이블 추가: 정상 0, 이상 1\n",
    "df_normal_test['label'] = 0\n",
    "df_anomaly_test['label'] = 1\n",
    "\n",
    "# 두 데이터를 합침\n",
    "df_test = pd.concat([df_normal_test, df_anomaly_test], ignore_index=True)"
   ]
  },
  {
   "cell_type": "code",
   "execution_count": 76,
   "metadata": {},
   "outputs": [
    {
     "name": "stdout",
     "output_type": "stream",
     "text": [
      "Warning: 새로운 값 발견 {'custom_inbound', 'custom_outbound', 'stock_inbound(reseller)', 'illegal_transfer', 'stock_outbound(sell)'}. 새로운 라벨로 추가합니다.\n",
      "Warning: 새로운 값 발견 {'Kangwon', 'Gumi'}. 새로운 라벨로 추가합니다.\n"
     ]
    }
   ],
   "source": [
    "# 3. 테스트 데이터 전처리  \n",
    "# (학습 시 사용한 전처리와 동일하게 처리해야 함)\n",
    "df_test['event_time'] = pd.to_datetime(df_test['event_time'])\n",
    "df_test = df_test.sort_values(by=['epc_code', 'product_serial', 'event_time'])\n",
    "\n",
    "# 각 제품 그룹별 첫 이벤트 기준으로 시간 차이(time_delta) 계산\n",
    "df_test['time_delta'] = df_test.groupby(['epc_code', 'product_serial'])['event_time'] \\\n",
    "                               .transform(lambda x: (x - x.min()).dt.total_seconds())\n",
    "\n",
    "# 범주형 변수 인코딩\n",
    "df_test['event_type_enc'] = safe_transform(le_event, df_test['event_type'])\n",
    "df_test['hub_type_enc'] = safe_transform(le_hub, df_test['hub_type'])\n",
    "\n",
    "# 수치형 변수 정규화\n",
    "df_test['time_delta_scaled'] = scaler.transform(df_test[['time_delta']])"
   ]
  },
  {
   "cell_type": "code",
   "execution_count": 77,
   "metadata": {},
   "outputs": [
    {
     "name": "stdout",
     "output_type": "stream",
     "text": [
      "전처리 후 데이터 샘플:\n"
     ]
    },
    {
     "data": {
      "text/html": [
       "<div>\n",
       "<style scoped>\n",
       "    .dataframe tbody tr th:only-of-type {\n",
       "        vertical-align: middle;\n",
       "    }\n",
       "\n",
       "    .dataframe tbody tr th {\n",
       "        vertical-align: top;\n",
       "    }\n",
       "\n",
       "    .dataframe thead th {\n",
       "        text-align: right;\n",
       "    }\n",
       "</style>\n",
       "<table border=\"1\" class=\"dataframe\">\n",
       "  <thead>\n",
       "    <tr style=\"text-align: right;\">\n",
       "      <th></th>\n",
       "      <th>epc_code</th>\n",
       "      <th>product_serial</th>\n",
       "      <th>event_time</th>\n",
       "      <th>time_delta</th>\n",
       "      <th>event_type</th>\n",
       "      <th>event_type_enc</th>\n",
       "      <th>hub_type</th>\n",
       "      <th>hub_type_enc</th>\n",
       "      <th>time_delta_scaled</th>\n",
       "    </tr>\n",
       "  </thead>\n",
       "  <tbody>\n",
       "    <tr>\n",
       "      <th>5208</th>\n",
       "      <td>001.6923243.102743.000037501</td>\n",
       "      <td>37501</td>\n",
       "      <td>2025-01-21 17:54:00</td>\n",
       "      <td>0.0</td>\n",
       "      <td>custom_inbound</td>\n",
       "      <td>10</td>\n",
       "      <td>Yeongju</td>\n",
       "      <td>15</td>\n",
       "      <td>0.000000</td>\n",
       "    </tr>\n",
       "    <tr>\n",
       "      <th>5209</th>\n",
       "      <td>001.6923243.102743.000037501</td>\n",
       "      <td>37501</td>\n",
       "      <td>2025-01-24 17:21:00</td>\n",
       "      <td>257220.0</td>\n",
       "      <td>stock_inbound(HUB)</td>\n",
       "      <td>4</td>\n",
       "      <td>Yeongju</td>\n",
       "      <td>15</td>\n",
       "      <td>0.021394</td>\n",
       "    </tr>\n",
       "    <tr>\n",
       "      <th>5210</th>\n",
       "      <td>001.6923243.102743.000037501</td>\n",
       "      <td>37501</td>\n",
       "      <td>2025-01-25 01:23:00</td>\n",
       "      <td>286140.0</td>\n",
       "      <td>custom_outbound</td>\n",
       "      <td>11</td>\n",
       "      <td>Busan_gumjung</td>\n",
       "      <td>1</td>\n",
       "      <td>0.023799</td>\n",
       "    </tr>\n",
       "    <tr>\n",
       "      <th>5211</th>\n",
       "      <td>001.6923243.102743.000037501</td>\n",
       "      <td>37501</td>\n",
       "      <td>2025-01-26 18:17:00</td>\n",
       "      <td>433380.0</td>\n",
       "      <td>stock_inbound(HUB)</td>\n",
       "      <td>4</td>\n",
       "      <td>Busan_gumjung</td>\n",
       "      <td>1</td>\n",
       "      <td>0.036045</td>\n",
       "    </tr>\n",
       "    <tr>\n",
       "      <th>5212</th>\n",
       "      <td>001.6923243.102743.000037501</td>\n",
       "      <td>37501</td>\n",
       "      <td>2025-01-26 20:40:00</td>\n",
       "      <td>441960.0</td>\n",
       "      <td>stock_inbound(Wholesaler)</td>\n",
       "      <td>6</td>\n",
       "      <td>Busan_yangsan</td>\n",
       "      <td>2</td>\n",
       "      <td>0.036759</td>\n",
       "    </tr>\n",
       "    <tr>\n",
       "      <th>5213</th>\n",
       "      <td>001.6923243.102743.000037501</td>\n",
       "      <td>37501</td>\n",
       "      <td>2025-02-06 23:06:00</td>\n",
       "      <td>1401120.0</td>\n",
       "      <td>stock_outbound(Wholesaler)</td>\n",
       "      <td>9</td>\n",
       "      <td>Busan_yangsan</td>\n",
       "      <td>2</td>\n",
       "      <td>0.116535</td>\n",
       "    </tr>\n",
       "    <tr>\n",
       "      <th>5214</th>\n",
       "      <td>001.6923243.102743.000037501</td>\n",
       "      <td>37501</td>\n",
       "      <td>2025-02-07 08:24:00</td>\n",
       "      <td>1434600.0</td>\n",
       "      <td>stock_inbound(reseller)</td>\n",
       "      <td>12</td>\n",
       "      <td>Busan_dongnea</td>\n",
       "      <td>0</td>\n",
       "      <td>0.119319</td>\n",
       "    </tr>\n",
       "    <tr>\n",
       "      <th>5215</th>\n",
       "      <td>001.6923243.102743.000037501</td>\n",
       "      <td>37501</td>\n",
       "      <td>2025-03-15 22:54:00</td>\n",
       "      <td>4597200.0</td>\n",
       "      <td>stock_outbound(sell)</td>\n",
       "      <td>14</td>\n",
       "      <td>Busan_dongnea</td>\n",
       "      <td>0</td>\n",
       "      <td>0.382360</td>\n",
       "    </tr>\n",
       "    <tr>\n",
       "      <th>5216</th>\n",
       "      <td>001.6923243.102743.000037502</td>\n",
       "      <td>37502</td>\n",
       "      <td>2025-01-21 17:54:00</td>\n",
       "      <td>0.0</td>\n",
       "      <td>custom_inbound</td>\n",
       "      <td>10</td>\n",
       "      <td>Yeongju</td>\n",
       "      <td>15</td>\n",
       "      <td>0.000000</td>\n",
       "    </tr>\n",
       "    <tr>\n",
       "      <th>5217</th>\n",
       "      <td>001.6923243.102743.000037502</td>\n",
       "      <td>37502</td>\n",
       "      <td>2025-01-26 22:48:00</td>\n",
       "      <td>449640.0</td>\n",
       "      <td>custom_outbound</td>\n",
       "      <td>11</td>\n",
       "      <td>Seoul_donggu</td>\n",
       "      <td>13</td>\n",
       "      <td>0.037398</td>\n",
       "    </tr>\n",
       "  </tbody>\n",
       "</table>\n",
       "</div>"
      ],
      "text/plain": [
       "                          epc_code  product_serial          event_time  \\\n",
       "5208  001.6923243.102743.000037501           37501 2025-01-21 17:54:00   \n",
       "5209  001.6923243.102743.000037501           37501 2025-01-24 17:21:00   \n",
       "5210  001.6923243.102743.000037501           37501 2025-01-25 01:23:00   \n",
       "5211  001.6923243.102743.000037501           37501 2025-01-26 18:17:00   \n",
       "5212  001.6923243.102743.000037501           37501 2025-01-26 20:40:00   \n",
       "5213  001.6923243.102743.000037501           37501 2025-02-06 23:06:00   \n",
       "5214  001.6923243.102743.000037501           37501 2025-02-07 08:24:00   \n",
       "5215  001.6923243.102743.000037501           37501 2025-03-15 22:54:00   \n",
       "5216  001.6923243.102743.000037502           37502 2025-01-21 17:54:00   \n",
       "5217  001.6923243.102743.000037502           37502 2025-01-26 22:48:00   \n",
       "\n",
       "      time_delta                  event_type  event_type_enc       hub_type  \\\n",
       "5208         0.0              custom_inbound              10        Yeongju   \n",
       "5209    257220.0          stock_inbound(HUB)               4        Yeongju   \n",
       "5210    286140.0             custom_outbound              11  Busan_gumjung   \n",
       "5211    433380.0          stock_inbound(HUB)               4  Busan_gumjung   \n",
       "5212    441960.0   stock_inbound(Wholesaler)               6  Busan_yangsan   \n",
       "5213   1401120.0  stock_outbound(Wholesaler)               9  Busan_yangsan   \n",
       "5214   1434600.0     stock_inbound(reseller)              12  Busan_dongnea   \n",
       "5215   4597200.0        stock_outbound(sell)              14  Busan_dongnea   \n",
       "5216         0.0              custom_inbound              10        Yeongju   \n",
       "5217    449640.0             custom_outbound              11   Seoul_donggu   \n",
       "\n",
       "      hub_type_enc  time_delta_scaled  \n",
       "5208            15           0.000000  \n",
       "5209            15           0.021394  \n",
       "5210             1           0.023799  \n",
       "5211             1           0.036045  \n",
       "5212             2           0.036759  \n",
       "5213             2           0.116535  \n",
       "5214             0           0.119319  \n",
       "5215             0           0.382360  \n",
       "5216            15           0.000000  \n",
       "5217            13           0.037398  "
      ]
     },
     "metadata": {},
     "output_type": "display_data"
    }
   ],
   "source": [
    "print(\"전처리 후 데이터 샘플:\")\n",
    "display(df_test[['epc_code', 'product_serial', 'event_time', 'time_delta', \n",
    "          'event_type', 'event_type_enc', 'hub_type', 'hub_type_enc', 'time_delta_scaled']].head(10))"
   ]
  },
  {
   "cell_type": "code",
   "execution_count": 78,
   "metadata": {},
   "outputs": [
    {
     "name": "stdout",
     "output_type": "stream",
     "text": [
      "테스트 시퀀스 데이터 shape: (513, 10, 3)\n"
     ]
    },
    {
     "name": "stderr",
     "output_type": "stream",
     "text": [
      "C:\\Users\\user\\AppData\\Local\\Temp\\ipykernel_10008\\209135755.py:16: DeprecationWarning: DataFrameGroupBy.apply operated on the grouping columns. This behavior is deprecated, and in a future version of pandas the grouping columns will be excluded from the operation. Either pass `include_groups=False` to exclude the groupings or explicitly select the grouping columns after groupby to silence this warning.\n",
      "  sequences_test = grouped_test.apply(lambda x: create_sequence(x, max_seq_length, feature_columns))\n"
     ]
    }
   ],
   "source": [
    "# 4. 시퀀스 데이터 구성 함수 (학습 시와 동일)\n",
    "max_seq_length = 10  # 학습 시 사용한 시퀀스 길이와 동일하게\n",
    "feature_columns = ['event_type_enc', 'hub_type_enc', 'time_delta_scaled']\n",
    "\n",
    "def create_sequence(group, max_seq_length, feature_columns):\n",
    "    seq = group[feature_columns].values  # shape: (num_events, num_features)\n",
    "    if len(seq) < max_seq_length:\n",
    "        padding = np.zeros((max_seq_length - len(seq), len(feature_columns)))\n",
    "        seq = np.vstack([seq, padding])\n",
    "    else:\n",
    "        seq = seq[:max_seq_length]\n",
    "    return seq\n",
    "\n",
    "# 그룹핑: epc_code와 product_serial 별로 시퀀스 구성\n",
    "grouped_test = df_test.groupby(['epc_code', 'product_serial'])\n",
    "sequences_test = grouped_test.apply(lambda x: create_sequence(x, max_seq_length, feature_columns))\n",
    "\n",
    "# sequences_test는 pandas Series이므로 numpy array로 변환\n",
    "X_test = np.stack(sequences_test.values)\n",
    "print(\"테스트 시퀀스 데이터 shape:\", X_test.shape)  # (그룹 수, max_seq_length, feature 수)"
   ]
  },
  {
   "cell_type": "code",
   "execution_count": 79,
   "metadata": {},
   "outputs": [
    {
     "name": "stdout",
     "output_type": "stream",
     "text": [
      "\u001b[1m17/17\u001b[0m \u001b[32m━━━━━━━━━━━━━━━━━━━━\u001b[0m\u001b[37m\u001b[0m \u001b[1m1s\u001b[0m 19ms/step\n"
     ]
    }
   ],
   "source": [
    "# 5. 테스트 데이터 예측 및 재구성 오차 계산\n",
    "X_pred_test = loaded_model.predict(X_test)\n",
    "reconstruction_errors_test = np.mean(np.square(X_pred_test - X_test), axis=(1,2))\n",
    "\n",
    "# 저장된 임계치(threshold)보다 오차가 큰 시퀀스는 이상으로 판정\n",
    "predicted_anomalies = reconstruction_errors_test > threshold"
   ]
  },
  {
   "cell_type": "code",
   "execution_count": 80,
   "metadata": {},
   "outputs": [],
   "source": [
    "# 6. 그룹별 실제 레이블 결정  \n",
    "# 한 그룹 내에 하나라도 이상 이벤트(label==1)가 있으면 해당 시퀀스를 이상으로 간주합니다.\n",
    "group_labels = grouped_test['label'].max()  # 그룹별 max 값 (0 또는 1)\n",
    "group_labels = group_labels.sort_index()  # 시퀀스 데이터 순서와 동일하게 정렬"
   ]
  },
  {
   "cell_type": "code",
   "execution_count": 81,
   "metadata": {},
   "outputs": [
    {
     "name": "stdout",
     "output_type": "stream",
     "text": [
      "테스트 데이터 그룹(시퀀스) 총 개수: 513\n",
      "모델이 이상으로 판정한 그룹 수: 31\n",
      "이상 탐지된 epc_code 목록: ['001.6923243.102743.000037501' '001.6923243.102743.000037502'\n",
      " '001.6923243.102743.000037503' '001.6923243.102743.000037504'\n",
      " '001.6923243.102743.000037505' '001.6923243.102743.000037506'\n",
      " '001.6923243.102743.000037507' '001.6923243.102743.000037508'\n",
      " '001.6923243.102743.000037509' '001.6923243.102743.000037510'\n",
      " '001.8805843.238435.000049998' '001.8805843.238435.000049999'\n",
      " '001.8805843.238435.000050000' '001.8805843.584374.000000148'\n",
      " '001.8805843.584374.000000149' '001.8805843.584374.000000150'\n",
      " '001.8805843.584374.000000151' '001.8805843.584374.000000152'\n",
      " '001.8805843.584374.000000153' '001.8805843.584374.000000154'\n",
      " '001.8805843.584374.000000155' '001.8805843.584374.000000156'\n",
      " '001.8805843.584374.000000157' '001.8805843.584374.000000158'\n",
      " '001.8805843.584374.000000159' '001.8805843.584374.000000160'\n",
      " '001.8805843.584374.000000161' '001.8805843.584374.000000162'\n",
      " '001.8805843.584374.000000163' '001.8805843.584374.000000164'\n",
      " '001.8805843.584374.000000165']\n",
      "Confusion Matrix:\n",
      "\n"
     ]
    },
    {
     "data": {
      "image/png": "[encoded data removed]",
      "text/plain": [
       "<Figure size 600x400 with 2 Axes>"
      ]
     },
     "metadata": {},
     "output_type": "display_data"
    },
    {
     "name": "stdout",
     "output_type": "stream",
     "text": [
      "Metrics DataFrame:\n",
      "     precision(정밀도)  recall(재현율)  f1-score(점수)\n",
      "정상             1.0          1.0           1.0\n",
      "이상             1.0          1.0           1.0\n"
     ]
    }
   ],
   "source": [
    "# 7. 결과 평가\n",
    "num_sequences = len(X_test)\n",
    "num_detected = predicted_anomalies.sum()\n",
    "\n",
    "print(f\"테스트 데이터 그룹(시퀀스) 총 개수: {num_sequences}\")\n",
    "print(f\"모델이 이상으로 판정한 그룹 수: {num_detected}\")\n",
    "\n",
    "epc_codes = grouped_test['epc_code'].first().sort_index()\n",
    "anomalous_epc_codes = epc_codes[predicted_anomalies]\n",
    "print(\"이상 탐지된 epc_code 목록:\", anomalous_epc_codes.values)\n",
    "\n",
    "# 혼동 행렬 및 분류 리포트 출력 및 시각화\n",
    "cm = confusion_matrix(group_labels, predicted_anomalies)\n",
    "\n",
    "labels = [\"정상\", \"이상\"]\n",
    "\n",
    "# 한글 폰트 경로 설정\n",
    "plt.rcParams['font.family'] ='Malgun Gothic'\n",
    "plt.rcParams['axes.unicode_minus'] =False\n",
    "\n",
    "print(\"Confusion Matrix:\\n\")\n",
    "plt.figure(figsize=(6, 4))\n",
    "sns.heatmap(cm, annot=True, fmt='d', cmap='Blues', cbar=True, xticklabels=labels, yticklabels=labels)\n",
    "plt.xlabel(\"Predicted Label\")\n",
    "plt.ylabel(\"True Label\")\n",
    "plt.title(\"Confusion Matrix\")\n",
    "plt.show()\n",
    "\n",
    "# 2. 분류 리포트 출력\n",
    "report_dict = classification_report(group_labels, predicted_anomalies, target_names=[\"정상\", \"이상\"], output_dict=True)\n",
    "\n",
    "# pandas DataFrame으로 변환\n",
    "report_df = pd.DataFrame(report_dict).transpose()\n",
    "\n",
    "metrics_df = report_df.loc[['정상', '이상']][['precision', 'recall', 'f1-score']]\n",
    "\n",
    "metrics_df.columns = ['precision(정밀도)', 'recall(재현율)', 'f1-score(점수)']\n",
    "print(\"Metrics DataFrame:\\n\", metrics_df)"
   ]
  }
 ],
 "metadata": {
  "kernelspec": {
   "display_name": "torch_book",
   "language": "python",
   "name": "python3"
  },
  "language_info": {
   "codemirror_mode": {
    "name": "ipython",
    "version": 3
   },
   "file_extension": ".py",
   "mimetype": "text/x-python",
   "name": "python",
   "nbconvert_exporter": "python",
   "pygments_lexer": "ipython3",
   "version": "3.12.6"
  }
 },
 "nbformat": 4,
 "nbformat_minor": 2
}
