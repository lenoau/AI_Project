{
 "cells": [
  {
   "cell_type": "code",
   "execution_count": 459,
   "metadata": {},
   "outputs": [],
   "source": [
    "import pandas as pd\n",
    "import numpy as np\n",
    "import matplotlib.pyplot as plt\n",
    "from datetime import datetime\n",
    "import pickle\n",
    "from sklearn.preprocessing import LabelEncoder, MinMaxScaler\n",
    "import tensorflow as tf\n",
    "from tensorflow.keras.models import load_model\n",
    "from tensorflow.keras.losses import MeanSquaredError  \n",
    "import pickle\n",
    "from sklearn.metrics import confusion_matrix, classification_report\n",
    "import seaborn as sns"
   ]
  },
  {
   "cell_type": "code",
   "execution_count": 460,
   "metadata": {},
   "outputs": [
    {
     "name": "stderr",
     "output_type": "stream",
     "text": [
      "WARNING:absl:Compiled the loaded model, but the compiled metrics have yet to be built. `model.compile_metrics` will be empty until you train or evaluate the model.\n"
     ]
    },
    {
     "name": "stdout",
     "output_type": "stream",
     "text": [
      "불러온 임계치: 0.4864602896079038\n"
     ]
    }
   ],
   "source": [
    "# 1. 저장된 모델과 임계치 불러오기\n",
    "loaded_model = load_model('./LSTM_결과/임계치_0.4864.h5', custom_objects={'mae': MeanSquaredError()})\n",
    "with open('./LSTM_결과/임계치_0.4864.pkl', 'rb') as f:\n",
    "    threshold = pickle.load(f)\n",
    "print(\"불러온 임계치:\", threshold)"
   ]
  },
  {
   "cell_type": "code",
   "execution_count": 461,
   "metadata": {},
   "outputs": [],
   "source": [
    "# 2. 테스트 데이터 불러오기  \n",
    "df_normal_test = pd.read_csv(\"정상데이터.csv\")\n",
    "df_anomaly_test = pd.read_csv(\"이상데이터.csv\")\n",
    "\n",
    "# 각 데이터에 레이블 추가: 정상 0, 이상 1\n",
    "df_normal_test['label'] = 0\n",
    "df_anomaly_test['label'] = 1\n",
    "\n",
    "# 두 데이터를 합침\n",
    "df_test = pd.concat([df_normal_test, df_anomaly_test], ignore_index=True)"
   ]
  },
  {
   "cell_type": "code",
   "execution_count": 462,
   "metadata": {},
   "outputs": [],
   "source": [
    "# 3. 테스트 데이터 전처리  \n",
    "# (학습 시 사용한 전처리와 동일하게 처리해야 함)\n",
    "df_test['event_time'] = pd.to_datetime(df_test['event_time'])\n",
    "df_test = df_test.sort_values(by=['epc_code', 'product_serial', 'event_time'])\n",
    "\n",
    "# 각 제품 그룹별 첫 이벤트 기준으로 시간 차이(time_delta) 계산\n",
    "df_test['time_delta'] = df_test.groupby(['epc_code', 'product_serial'])['event_time'] \\\n",
    "                               .transform(lambda x: (x - x.min()).dt.total_seconds())\n",
    "\n",
    "# 범주형 변수 인코딩\n",
    "le_event = LabelEncoder()\n",
    "df_test['event_type_enc'] = le_event.fit_transform(df_test['event_type'])\n",
    "\n",
    "le_hub = LabelEncoder()\n",
    "df_test['hub_type_enc'] = le_hub.fit_transform(df_test['hub_type'])\n",
    "\n",
    "# 수치형 변수 정규화\n",
    "scaler = MinMaxScaler()\n",
    "df_test['time_delta_scaled'] = scaler.fit_transform(df_test[['time_delta']])"
   ]
  },
  {
   "cell_type": "code",
   "execution_count": 463,
   "metadata": {},
   "outputs": [
    {
     "name": "stdout",
     "output_type": "stream",
     "text": [
      "테스트 시퀀스 데이터 shape: (200, 10, 3)\n"
     ]
    },
    {
     "name": "stderr",
     "output_type": "stream",
     "text": [
      "C:\\Users\\user\\AppData\\Local\\Temp\\ipykernel_11488\\209135755.py:16: DeprecationWarning: DataFrameGroupBy.apply operated on the grouping columns. This behavior is deprecated, and in a future version of pandas the grouping columns will be excluded from the operation. Either pass `include_groups=False` to exclude the groupings or explicitly select the grouping columns after groupby to silence this warning.\n",
      "  sequences_test = grouped_test.apply(lambda x: create_sequence(x, max_seq_length, feature_columns))\n"
     ]
    }
   ],
   "source": [
    "# 4. 시퀀스 데이터 구성 함수 (학습 시와 동일)\n",
    "max_seq_length = 10  # 학습 시 사용한 시퀀스 길이와 동일하게\n",
    "feature_columns = ['event_type_enc', 'hub_type_enc', 'time_delta_scaled']\n",
    "\n",
    "def create_sequence(group, max_seq_length, feature_columns):\n",
    "    seq = group[feature_columns].values  # shape: (num_events, num_features)\n",
    "    if len(seq) < max_seq_length:\n",
    "        padding = np.zeros((max_seq_length - len(seq), len(feature_columns)))\n",
    "        seq = np.vstack([seq, padding])\n",
    "    else:\n",
    "        seq = seq[:max_seq_length]\n",
    "    return seq\n",
    "\n",
    "# 그룹핑: epc_code와 product_serial 별로 시퀀스 구성\n",
    "grouped_test = df_test.groupby(['epc_code', 'product_serial'])\n",
    "sequences_test = grouped_test.apply(lambda x: create_sequence(x, max_seq_length, feature_columns))\n",
    "\n",
    "# sequences_test는 pandas Series이므로 numpy array로 변환\n",
    "X_test = np.stack(sequences_test.values)\n",
    "print(\"테스트 시퀀스 데이터 shape:\", X_test.shape)  # (그룹 수, max_seq_length, feature 수)"
   ]
  },
  {
   "cell_type": "code",
   "execution_count": 464,
   "metadata": {},
   "outputs": [
    {
     "name": "stdout",
     "output_type": "stream",
     "text": [
      "\u001b[1m7/7\u001b[0m \u001b[32m━━━━━━━━━━━━━━━━━━━━\u001b[0m\u001b[37m\u001b[0m \u001b[1m1s\u001b[0m 49ms/step\n"
     ]
    }
   ],
   "source": [
    "# 5. 테스트 데이터 예측 및 재구성 오차 계산\n",
    "X_pred_test = loaded_model.predict(X_test)\n",
    "reconstruction_errors_test = np.mean(np.square(X_pred_test - X_test), axis=(1,2))\n",
    "\n",
    "# 저장된 임계치(threshold)보다 오차가 큰 시퀀스는 이상으로 판정\n",
    "predicted_anomalies = reconstruction_errors_test > threshold"
   ]
  },
  {
   "cell_type": "code",
   "execution_count": 465,
   "metadata": {},
   "outputs": [],
   "source": [
    "# 6. 그룹별 실제 레이블 결정  \n",
    "# 한 그룹 내에 하나라도 이상 이벤트(label==1)가 있으면 해당 시퀀스를 이상으로 간주합니다.\n",
    "group_labels = grouped_test['label'].max()  # 그룹별 max 값 (0 또는 1)\n",
    "group_labels = group_labels.sort_index()  # 시퀀스 데이터 순서와 동일하게 정렬"
   ]
  },
  {
   "cell_type": "code",
   "execution_count": 466,
   "metadata": {},
   "outputs": [
    {
     "name": "stdout",
     "output_type": "stream",
     "text": [
      "테스트 데이터 그룹(시퀀스) 총 개수: 200\n",
      "모델이 이상으로 판정한 그룹 수: 100\n",
      "Confusion Matrix:\n",
      "\n"
     ]
    },
    {
     "data": {
      "image/png": "[encoded data removed]",
      "text/plain": [
       "<Figure size 600x400 with 2 Axes>"
      ]
     },
     "metadata": {},
     "output_type": "display_data"
    },
    {
     "name": "stdout",
     "output_type": "stream",
     "text": [
      "Metrics DataFrame:\n",
      "     precision(정밀도)  recall(재현율)  f1-score(점수)\n",
      "정상             1.0          1.0           1.0\n",
      "이상             1.0          1.0           1.0\n"
     ]
    }
   ],
   "source": [
    "# 7. 결과 평가\n",
    "num_sequences = len(X_test)\n",
    "num_detected = predicted_anomalies.sum()\n",
    "print(f\"테스트 데이터 그룹(시퀀스) 총 개수: {num_sequences}\")\n",
    "print(f\"모델이 이상으로 판정한 그룹 수: {num_detected}\")\n",
    "\n",
    "# 혼동 행렬 및 분류 리포트 출력 및 시각화화\n",
    "cm = confusion_matrix(group_labels, predicted_anomalies)\n",
    "\n",
    "labels = [\"정상\", \"이상\"]\n",
    "\n",
    "# 한글 폰트 경로 설정\n",
    "plt.rcParams['font.family'] ='Malgun Gothic'\n",
    "plt.rcParams['axes.unicode_minus'] =False\n",
    "\n",
    "print(\"Confusion Matrix:\\n\")\n",
    "plt.figure(figsize=(6, 4))\n",
    "sns.heatmap(cm, annot=True, fmt='d', cmap='Blues', cbar=True, xticklabels=labels, yticklabels=labels)\n",
    "plt.xlabel(\"Predicted Label\")\n",
    "plt.ylabel(\"True Label\")\n",
    "plt.title(\"Confusion Matrix\")\n",
    "plt.show()\n",
    "\n",
    "# 2. 분류 리포트 출력\n",
    "report_dict = classification_report(group_labels, predicted_anomalies, target_names=[\"정상\", \"이상\"], output_dict=True)\n",
    "\n",
    "# pandas DataFrame으로 변환\n",
    "report_df = pd.DataFrame(report_dict).transpose()\n",
    "\n",
    "metrics_df = report_df.loc[['정상', '이상']][['precision', 'recall', 'f1-score']]\n",
    "\n",
    "metrics_df.columns = ['precision(정밀도)', 'recall(재현율)', 'f1-score(점수)']\n",
    "print(\"Metrics DataFrame:\\n\", metrics_df)"
   ]
  }
 ],
 "metadata": {
  "kernelspec": {
   "display_name": "torch_book",
   "language": "python",
   "name": "python3"
  },
  "language_info": {
   "codemirror_mode": {
    "name": "ipython",
    "version": 3
   },
   "file_extension": ".py",
   "mimetype": "text/x-python",
   "name": "python",
   "nbconvert_exporter": "python",
   "pygments_lexer": "ipython3",
   "version": "3.12.6"
  }
 },
 "nbformat": 4,
 "nbformat_minor": 2
}
