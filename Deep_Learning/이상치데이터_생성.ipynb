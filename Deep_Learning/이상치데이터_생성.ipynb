{
 "cells": [
  {
   "cell_type": "code",
   "execution_count": 23,
   "metadata": {},
   "outputs": [],
   "source": [
    "import pandas as pd\n",
    "import numpy as np\n",
    "\n",
    "# 1. 데이터 로드 (로컬 파일 경로 수정)\n",
    "file_path = \"D:/코딩/Python/AI/AI_Project/Deep_Learning/Dummy_02.csv\"  # 로컬 경로로 변경\n",
    "df = pd.read_csv(file_path)\n"
   ]
  },
  {
   "cell_type": "code",
   "execution_count": 24,
   "metadata": {},
   "outputs": [
    {
     "name": "stdout",
     "output_type": "stream",
     "text": [
      "이상 데이터가 생성되어 저장되었습니다: D:/코딩/Python/AI/AI_Project/Deep_Learning/학습데이터.csv\n"
     ]
    }
   ],
   "source": [
    "import pandas as pd\n",
    "import numpy as np\n",
    "\n",
    "# 이상 데이터 생성 함수 (event_time 증가 추가)\n",
    "def create_anomalies_with_time_shift(df, seq_length=10):\n",
    "    anomaly_df = df.copy()\n",
    "    \n",
    "    # event_time을 datetime 형식으로 변환 (문자열이면 변환)\n",
    "    if df['event_time'].dtype == 'object':  \n",
    "         anomaly_df['event_time'] = pd.to_datetime(anomaly_df['event_time'])\n",
    "    \n",
    "    grouped = anomaly_df.groupby('epc_code')\n",
    "    anomaly_samples = []\n",
    "    \n",
    "    for _, group in grouped:\n",
    "        if len(group) >= seq_length:\n",
    "            group = group.copy()\n",
    "            \n",
    "            # (1) 허브 이동 순서 랜덤 변경\n",
    "            shuffled_hub = group['hub_type'].sample(frac=1, random_state=42).values\n",
    "            group['hub_type'] = shuffled_hub\n",
    "\n",
    "            # (2) 이벤트 순서 랜덤 변경\n",
    "            shuffled_event = group['event_type'].sample(frac=1, random_state=42).values\n",
    "            group['event_type'] = shuffled_event\n",
    "\n",
    "            # (3) 특정 샘플의 `event_time`을 무작위로 증가 (월, 일, 시간, 분, 초)\n",
    "            time_shift_idx = np.random.choice(len(group), size=1, replace=False)\n",
    "            shift_amount = np.random.choice([\n",
    "                pd.DateOffset(months=1),  # 1개월 증가\n",
    "                pd.DateOffset(days=10),   # 10일 증가\n",
    "                pd.DateOffset(hours=5),   # 5시간 증가\n",
    "                pd.DateOffset(minutes=30), # 30분 증가\n",
    "                pd.DateOffset(seconds=55) # 55초 증가\n",
    "            ])\n",
    "            \n",
    "            group.loc[group.index[time_shift_idx], 'event_time'] += shift_amount\n",
    "            \n",
    "            anomaly_samples.append(group)\n",
    "    \n",
    "    anomaly_df = pd.concat(anomaly_samples, ignore_index=True)\n",
    "    \n",
    "    # 라벨 추가 (정상 데이터: 0, 이상 데이터: 1)\n",
    "    df['label'] = 0  # 원래 데이터는 정상 (0)\n",
    "    anomaly_df['label'] = 1  # 이상 데이터 (1)\n",
    "    \n",
    "    return df, anomaly_df\n",
    "\n",
    "# 이상 데이터 생성\n",
    "df_normal, df_anomalies = create_anomalies_with_time_shift(df)\n",
    "\n",
    "# 최종 데이터셋 병합\n",
    "df_final = pd.concat([df_normal, df_anomalies], ignore_index=True)\n",
    "\n",
    "# CSV 파일로 저장\n",
    "output_file_path = \"D:/코딩/Python/AI/AI_Project/Deep_Learning/학습데이터.csv\"\n",
    "df_final.to_csv(output_file_path, index=False)\n",
    "\n",
    "print(f\"이상 데이터가 생성되어 저장되었습니다: {output_file_path}\")\n"
   ]
  }
 ],
 "metadata": {
  "kernelspec": {
   "display_name": "torch_book",
   "language": "python",
   "name": "python3"
  },
  "language_info": {
   "codemirror_mode": {
    "name": "ipython",
    "version": 3
   },
   "file_extension": ".py",
   "mimetype": "text/x-python",
   "name": "python",
   "nbconvert_exporter": "python",
   "pygments_lexer": "ipython3",
   "version": "3.12.6"
  }
 },
 "nbformat": 4,
 "nbformat_minor": 2
}
