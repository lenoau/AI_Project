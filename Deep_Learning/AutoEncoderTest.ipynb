{
 "cells": [
  {
   "cell_type": "code",
   "execution_count": 25,
   "metadata": {},
   "outputs": [],
   "source": [
    "from preprocessing import preprocess_pipeline\n",
    "from tensorflow.keras.models import load_model\n",
    "import numpy as np\n",
    "import matplotlib.pyplot as plt"
   ]
  },
  {
   "cell_type": "code",
   "execution_count": 26,
   "metadata": {},
   "outputs": [],
   "source": [
    "# 이상치 데이터 평가\n",
    "anomaly_file_path = \"이상치데이터예제.csv\"\n",
    "seq_length = 10"
   ]
  },
  {
   "cell_type": "code",
   "execution_count": 27,
   "metadata": {},
   "outputs": [
    {
     "name": "stdout",
     "output_type": "stream",
     "text": [
      "Total sequences created: (19, 10, 8)\n",
      "Train shape: (15, 10, 8) Val shape: (2, 10, 8) Test shape: (2, 10, 8)\n"
     ]
    }
   ],
   "source": [
    "# 데이터 전처리\n",
    "X_anomaly = preprocess_pipeline(anomaly_file_path, seq_length)"
   ]
  },
  {
   "cell_type": "code",
   "execution_count": 28,
   "metadata": {},
   "outputs": [
    {
     "name": "stderr",
     "output_type": "stream",
     "text": [
      "WARNING:absl:Compiled the loaded model, but the compiled metrics have yet to be built. `model.compile_metrics` will be empty until you train or evaluate the model.\n"
     ]
    }
   ],
   "source": [
    "# 저장된 모델 로드\n",
    "autoencoder = load_model('autoencoder_model.h5')"
   ]
  },
  {
   "cell_type": "code",
   "execution_count": null,
   "metadata": {},
   "outputs": [],
   "source": [
    "# 모델 평가\n",
    "reconstructed = autoencoder.predict(X_anomaly)\n",
    "reconstruction_errors = np.mean(np.square(X_anomaly - reconstructed), axis=(1, 2))\n",
    "print(\"Reconstruction errors calculated.\")"
   ]
  },
  {
   "cell_type": "code",
   "execution_count": null,
   "metadata": {},
   "outputs": [],
   "source": [
    "# 이상치 탐지\n",
    "threshold = np.mean(reconstruction_errors) + np.std(reconstruction_errors)\n",
    "anomalies = reconstruction_errors > threshold\n",
    "print(f\"Number of anomalies detected: {np.sum(anomalies)}\")\n",
    "\n",
    "anomaly_indices = np.where(anomalies)[0]\n",
    "print(f\"Reconstruction errors for detected anomalies:\\n{reconstruction_errors[anomaly_indices]}\")\n",
    "\n",
    "plt.figure(figsize=(8, 5))\n",
    "plt.hist(reconstruction_errors, bins=50, alpha=0.7, label=\"All Data\")\n",
    "plt.axvline(threshold, color=\"red\", linestyle=\"--\", label=\"Threshold\")\n",
    "plt.title(\"Reconstruction Error Distribution\")\n",
    "plt.xlabel(\"Reconstruction Error\")\n",
    "plt.ylabel(\"Frequency\")\n",
    "plt.legend()\n",
    "plt.show()"
   ]
  }
 ],
 "metadata": {
  "kernelspec": {
   "display_name": "torch_book",
   "language": "python",
   "name": "python3"
  },
  "language_info": {
   "codemirror_mode": {
    "name": "ipython",
    "version": 3
   },
   "file_extension": ".py",
   "mimetype": "text/x-python",
   "name": "python",
   "nbconvert_exporter": "python",
   "pygments_lexer": "ipython3",
   "version": "3.12.6"
  }
 },
 "nbformat": 4,
 "nbformat_minor": 2
}
