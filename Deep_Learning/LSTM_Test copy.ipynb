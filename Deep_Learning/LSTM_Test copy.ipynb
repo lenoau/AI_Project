{
 "cells": [
  {
   "cell_type": "code",
   "execution_count": 73,
   "metadata": {},
   "outputs": [],
   "source": [
    "import pandas as pd\n",
    "import numpy as np\n",
    "import matplotlib.pyplot as plt\n",
    "from datetime import datetime\n",
    "import pickle\n",
    "from sklearn.preprocessing import LabelEncoder, MinMaxScaler\n",
    "import tensorflow as tf\n",
    "from tensorflow.keras.models import load_model\n",
    "from tensorflow.keras.losses import MeanSquaredError  \n",
    "import pickle\n",
    "from sklearn.metrics import confusion_matrix, classification_report\n",
    "import seaborn as sns"
   ]
  },
  {
   "cell_type": "code",
   "execution_count": null,
   "metadata": {},
   "outputs": [
    {
     "name": "stderr",
     "output_type": "stream",
     "text": [
      "WARNING:absl:Compiled the loaded model, but the compiled metrics have yet to be built. `model.compile_metrics` will be empty until you train or evaluate the model.\n"
     ]
    },
    {
     "name": "stdout",
     "output_type": "stream",
     "text": [
      "불러온 임계치: 0.4864602896079038\n"
     ]
    }
   ],
   "source": [
    "# 1. 저장된 모델, 임계치, 인코더더 불러오기\n",
    "loaded_model = load_model('./LSTM_결과/임계치_0.4864.h5', custom_objects={'mae': MeanSquaredError()})\n",
    "\n",
    "# 임계치 불러오기\n",
    "with open('./LSTM_결과/임계치_0.4864.pkl', 'rb') as f:\n",
    "    threshold = pickle.load(f)\n",
    "\n",
    "# LabelEncoder 불러오기\n",
    "with open('./LSTM_결과/event_type_encoder.pkl', 'rb') as f:\n",
    "    le_event = pickle.load(f)\n",
    "\n",
    "with open('./LSTM_결과/hub_type_encoder.pkl', 'rb') as f:\n",
    "    le_hub = pickle.load(f)\n",
    "\n",
    "# MinMaxScaler 불러오기\n",
    "with open('./LSTM_결과/scaler.pkl', 'rb') as f:\n",
    "    scaler = pickle.load(f)\n",
    "\n",
    "# 새로운 Label 처리\n",
    "def safe_transform(le, values):\n",
    "    # LabelEncoder에 없는 새로운 값 찾기\n",
    "    unknown_values = set(values) - set(le.classes_)\n",
    "    \n",
    "    # 새로운 값이 있으면 LabelEncoder 클래스에 추가\n",
    "    if unknown_values:\n",
    "        print(f\"Warning: 새로운 값 발견 {unknown_values}. 새로운 라벨로 추가합니다.\")\n",
    "        le.classes_ = np.append(le.classes_, list(unknown_values))\n",
    "    else:\n",
    "        print(\"새로운 값이 없습니다. 기존 클래스만 변환합니다.\")\n",
    "\n",
    "    return le.transform(values)\n",
    "\n",
    "print(\"불러온 임계치:\", threshold)"
   ]
  },
  {
   "cell_type": "code",
   "execution_count": 75,
   "metadata": {},
   "outputs": [],
   "source": [
    "# 2. 테스트 데이터 불러오기  \n",
    "df_normal_test = pd.read_csv(\"./Data/정상데이터2.csv\")\n",
    "df_anomaly_test = pd.read_csv(\"./Data/이상데이터2.csv\")\n",
    "\n",
    "# 각 데이터에 레이블 추가: 정상 0, 이상 1\n",
    "df_normal_test['label'] = 0\n",
    "df_anomaly_test['label'] = 1\n",
    "\n",
    "# 두 데이터를 합침\n",
    "df_test = pd.concat([df_normal_test, df_anomaly_test], ignore_index=True)"
   ]
  },
  {
   "cell_type": "code",
   "execution_count": 76,
   "metadata": {},
   "outputs": [
    {
     "name": "stdout",
     "output_type": "stream",
     "text": [
      "Warning: 새로운 값 발견 {'illegal_transfer', 'custom_inbound'}. 새로운 라벨로 추가합니다.\n",
      "새로운 값이 없습니다. 기존 클래스만 변환합니다.\n"
     ]
    }
   ],
   "source": [
    "# 3. 테스트 데이터 전처리  \n",
    "# (학습 시 사용한 전처리와 동일하게 처리해야 함)\n",
    "df_test['event_time'] = pd.to_datetime(df_test['event_time'])\n",
    "df_test = df_test.sort_values(by=['epc_code', 'product_serial', 'event_time'])\n",
    "\n",
    "# 각 제품 그룹별 첫 이벤트 기준으로 시간 차이(time_delta) 계산\n",
    "df_test['time_delta'] = df_test.groupby(['epc_code', 'product_serial'])['event_time'] \\\n",
    "                               .transform(lambda x: (x - x.min()).dt.total_seconds())\n",
    "\n",
    "# 범주형 변수 인코딩\n",
    "df_test['event_type_enc'] = safe_transform(le_event, df_test['event_type'])\n",
    "df_test['hub_type_enc'] = safe_transform(le_hub, df_test['hub_type'])\n",
    "\n",
    "# 수치형 변수 정규화\n",
    "df_test['time_delta_scaled'] = scaler.transform(df_test[['time_delta']])"
   ]
  },
  {
   "cell_type": "code",
   "execution_count": 77,
   "metadata": {},
   "outputs": [
    {
     "name": "stdout",
     "output_type": "stream",
     "text": [
      "전처리 후 데이터 샘플:\n"
     ]
    },
    {
     "data": {
      "text/html": [
       "<div>\n",
       "<style scoped>\n",
       "    .dataframe tbody tr th:only-of-type {\n",
       "        vertical-align: middle;\n",
       "    }\n",
       "\n",
       "    .dataframe tbody tr th {\n",
       "        vertical-align: top;\n",
       "    }\n",
       "\n",
       "    .dataframe thead th {\n",
       "        text-align: right;\n",
       "    }\n",
       "</style>\n",
       "<table border=\"1\" class=\"dataframe\">\n",
       "  <thead>\n",
       "    <tr style=\"text-align: right;\">\n",
       "      <th></th>\n",
       "      <th>epc_code</th>\n",
       "      <th>product_serial</th>\n",
       "      <th>event_time</th>\n",
       "      <th>time_delta</th>\n",
       "      <th>event_type</th>\n",
       "      <th>event_type_enc</th>\n",
       "      <th>hub_type</th>\n",
       "      <th>hub_type_enc</th>\n",
       "      <th>time_delta_scaled</th>\n",
       "    </tr>\n",
       "  </thead>\n",
       "  <tbody>\n",
       "    <tr>\n",
       "      <th>200</th>\n",
       "      <td>001.8805843.584374.000000003</td>\n",
       "      <td>3</td>\n",
       "      <td>2025-01-21 17:54:00</td>\n",
       "      <td>0.0</td>\n",
       "      <td>commissioning</td>\n",
       "      <td>3</td>\n",
       "      <td>Yeongju</td>\n",
       "      <td>5</td>\n",
       "      <td>0.000000</td>\n",
       "    </tr>\n",
       "    <tr>\n",
       "      <th>201</th>\n",
       "      <td>001.8805843.584374.000000003</td>\n",
       "      <td>3</td>\n",
       "      <td>2025-01-21 18:15:00</td>\n",
       "      <td>1260.0</td>\n",
       "      <td>aggregation</td>\n",
       "      <td>2</td>\n",
       "      <td>Yeongju</td>\n",
       "      <td>5</td>\n",
       "      <td>0.000105</td>\n",
       "    </tr>\n",
       "    <tr>\n",
       "      <th>202</th>\n",
       "      <td>001.8805843.584374.000000003</td>\n",
       "      <td>3</td>\n",
       "      <td>2025-01-21 19:11:00</td>\n",
       "      <td>4620.0</td>\n",
       "      <td>WMS_inbound</td>\n",
       "      <td>0</td>\n",
       "      <td>Yeongju</td>\n",
       "      <td>5</td>\n",
       "      <td>0.000384</td>\n",
       "    </tr>\n",
       "    <tr>\n",
       "      <th>203</th>\n",
       "      <td>001.8805843.584374.000000003</td>\n",
       "      <td>3</td>\n",
       "      <td>2025-02-02 20:43:00</td>\n",
       "      <td>1046940.0</td>\n",
       "      <td>WMS_outbound</td>\n",
       "      <td>1</td>\n",
       "      <td>Yeongju</td>\n",
       "      <td>5</td>\n",
       "      <td>0.087077</td>\n",
       "    </tr>\n",
       "    <tr>\n",
       "      <th>204</th>\n",
       "      <td>001.8805843.584374.000000003</td>\n",
       "      <td>3</td>\n",
       "      <td>2025-02-03 01:23:00</td>\n",
       "      <td>1063740.0</td>\n",
       "      <td>illegal_transfer</td>\n",
       "      <td>10</td>\n",
       "      <td>Busan</td>\n",
       "      <td>0</td>\n",
       "      <td>0.088474</td>\n",
       "    </tr>\n",
       "    <tr>\n",
       "      <th>205</th>\n",
       "      <td>001.8805843.584374.000000003</td>\n",
       "      <td>3</td>\n",
       "      <td>2025-03-07 02:46:00</td>\n",
       "      <td>3833520.0</td>\n",
       "      <td>stock_outbound(HUB)</td>\n",
       "      <td>7</td>\n",
       "      <td>Busan</td>\n",
       "      <td>0</td>\n",
       "      <td>0.318843</td>\n",
       "    </tr>\n",
       "    <tr>\n",
       "      <th>206</th>\n",
       "      <td>001.8805843.584374.000000003</td>\n",
       "      <td>3</td>\n",
       "      <td>2025-03-07 06:22:00</td>\n",
       "      <td>3846480.0</td>\n",
       "      <td>stock_inbound(Wholesaler)</td>\n",
       "      <td>6</td>\n",
       "      <td>Busan</td>\n",
       "      <td>0</td>\n",
       "      <td>0.319921</td>\n",
       "    </tr>\n",
       "    <tr>\n",
       "      <th>207</th>\n",
       "      <td>001.8805843.584374.000000003</td>\n",
       "      <td>3</td>\n",
       "      <td>2025-04-07 00:04:00</td>\n",
       "      <td>6502200.0</td>\n",
       "      <td>stock_outbound(Wholesaler)</td>\n",
       "      <td>9</td>\n",
       "      <td>Busan</td>\n",
       "      <td>0</td>\n",
       "      <td>0.540804</td>\n",
       "    </tr>\n",
       "    <tr>\n",
       "      <th>208</th>\n",
       "      <td>001.8805843.584374.000000003</td>\n",
       "      <td>3</td>\n",
       "      <td>2025-04-07 02:29:00</td>\n",
       "      <td>6510900.0</td>\n",
       "      <td>stock_inbound(Reseller)</td>\n",
       "      <td>5</td>\n",
       "      <td>Busan</td>\n",
       "      <td>0</td>\n",
       "      <td>0.541527</td>\n",
       "    </tr>\n",
       "    <tr>\n",
       "      <th>209</th>\n",
       "      <td>001.8805843.584374.000000003</td>\n",
       "      <td>3</td>\n",
       "      <td>2025-04-21 05:36:00</td>\n",
       "      <td>7731720.0</td>\n",
       "      <td>stock_outbound(Sell)</td>\n",
       "      <td>8</td>\n",
       "      <td>Busan</td>\n",
       "      <td>0</td>\n",
       "      <td>0.643066</td>\n",
       "    </tr>\n",
       "  </tbody>\n",
       "</table>\n",
       "</div>"
      ],
      "text/plain": [
       "                         epc_code  product_serial          event_time  \\\n",
       "200  001.8805843.584374.000000003               3 2025-01-21 17:54:00   \n",
       "201  001.8805843.584374.000000003               3 2025-01-21 18:15:00   \n",
       "202  001.8805843.584374.000000003               3 2025-01-21 19:11:00   \n",
       "203  001.8805843.584374.000000003               3 2025-02-02 20:43:00   \n",
       "204  001.8805843.584374.000000003               3 2025-02-03 01:23:00   \n",
       "205  001.8805843.584374.000000003               3 2025-03-07 02:46:00   \n",
       "206  001.8805843.584374.000000003               3 2025-03-07 06:22:00   \n",
       "207  001.8805843.584374.000000003               3 2025-04-07 00:04:00   \n",
       "208  001.8805843.584374.000000003               3 2025-04-07 02:29:00   \n",
       "209  001.8805843.584374.000000003               3 2025-04-21 05:36:00   \n",
       "\n",
       "     time_delta                  event_type  event_type_enc hub_type  \\\n",
       "200         0.0               commissioning               3  Yeongju   \n",
       "201      1260.0                 aggregation               2  Yeongju   \n",
       "202      4620.0                 WMS_inbound               0  Yeongju   \n",
       "203   1046940.0                WMS_outbound               1  Yeongju   \n",
       "204   1063740.0            illegal_transfer              10    Busan   \n",
       "205   3833520.0         stock_outbound(HUB)               7    Busan   \n",
       "206   3846480.0   stock_inbound(Wholesaler)               6    Busan   \n",
       "207   6502200.0  stock_outbound(Wholesaler)               9    Busan   \n",
       "208   6510900.0     stock_inbound(Reseller)               5    Busan   \n",
       "209   7731720.0        stock_outbound(Sell)               8    Busan   \n",
       "\n",
       "     hub_type_enc  time_delta_scaled  \n",
       "200             5           0.000000  \n",
       "201             5           0.000105  \n",
       "202             5           0.000384  \n",
       "203             5           0.087077  \n",
       "204             0           0.088474  \n",
       "205             0           0.318843  \n",
       "206             0           0.319921  \n",
       "207             0           0.540804  \n",
       "208             0           0.541527  \n",
       "209             0           0.643066  "
      ]
     },
     "metadata": {},
     "output_type": "display_data"
    }
   ],
   "source": [
    "print(\"전처리 후 데이터 샘플:\")\n",
    "display(df_test[['epc_code', 'product_serial', 'event_time', 'time_delta', \n",
    "          'event_type', 'event_type_enc', 'hub_type', 'hub_type_enc', 'time_delta_scaled']].head(10))"
   ]
  },
  {
   "cell_type": "code",
   "execution_count": 78,
   "metadata": {},
   "outputs": [
    {
     "name": "stdout",
     "output_type": "stream",
     "text": [
      "테스트 시퀀스 데이터 shape: (42, 10, 3)\n"
     ]
    },
    {
     "name": "stderr",
     "output_type": "stream",
     "text": [
      "C:\\Users\\ysjgo\\AppData\\Local\\Temp\\ipykernel_20564\\209135755.py:16: DeprecationWarning: DataFrameGroupBy.apply operated on the grouping columns. This behavior is deprecated, and in a future version of pandas the grouping columns will be excluded from the operation. Either pass `include_groups=False` to exclude the groupings or explicitly select the grouping columns after groupby to silence this warning.\n",
      "  sequences_test = grouped_test.apply(lambda x: create_sequence(x, max_seq_length, feature_columns))\n"
     ]
    }
   ],
   "source": [
    "# 4. 시퀀스 데이터 구성 함수 (학습 시와 동일)\n",
    "max_seq_length = 10  # 학습 시 사용한 시퀀스 길이와 동일하게\n",
    "feature_columns = ['event_type_enc', 'hub_type_enc', 'time_delta_scaled']\n",
    "\n",
    "def create_sequence(group, max_seq_length, feature_columns):\n",
    "    seq = group[feature_columns].values  # shape: (num_events, num_features)\n",
    "    if len(seq) < max_seq_length:\n",
    "        padding = np.zeros((max_seq_length - len(seq), len(feature_columns)))\n",
    "        seq = np.vstack([seq, padding])\n",
    "    else:\n",
    "        seq = seq[:max_seq_length]\n",
    "    return seq\n",
    "\n",
    "# 그룹핑: epc_code와 product_serial 별로 시퀀스 구성\n",
    "grouped_test = df_test.groupby(['epc_code', 'product_serial'])\n",
    "sequences_test = grouped_test.apply(lambda x: create_sequence(x, max_seq_length, feature_columns))\n",
    "\n",
    "# sequences_test는 pandas Series이므로 numpy array로 변환\n",
    "X_test = np.stack(sequences_test.values)\n",
    "print(\"테스트 시퀀스 데이터 shape:\", X_test.shape)  # (그룹 수, max_seq_length, feature 수)"
   ]
  },
  {
   "cell_type": "code",
   "execution_count": 79,
   "metadata": {},
   "outputs": [
    {
     "name": "stdout",
     "output_type": "stream",
     "text": [
      "\u001b[1m2/2\u001b[0m \u001b[32m━━━━━━━━━━━━━━━━━━━━\u001b[0m\u001b[37m\u001b[0m \u001b[1m0s\u001b[0m 237ms/step\n"
     ]
    }
   ],
   "source": [
    "# 5. 테스트 데이터 예측 및 재구성 오차 계산\n",
    "X_pred_test = loaded_model.predict(X_test)\n",
    "reconstruction_errors_test = np.mean(np.square(X_pred_test - X_test), axis=(1,2))\n",
    "\n",
    "# 저장된 임계치(threshold)보다 오차가 큰 시퀀스는 이상으로 판정\n",
    "predicted_anomalies = reconstruction_errors_test > threshold"
   ]
  },
  {
   "cell_type": "code",
   "execution_count": 80,
   "metadata": {},
   "outputs": [],
   "source": [
    "# 6. 그룹별 실제 레이블 결정  \n",
    "# 한 그룹 내에 하나라도 이상 이벤트(label==1)가 있으면 해당 시퀀스를 이상으로 간주합니다.\n",
    "group_labels = grouped_test['label'].max()  # 그룹별 max 값 (0 또는 1)\n",
    "group_labels = group_labels.sort_index()  # 시퀀스 데이터 순서와 동일하게 정렬"
   ]
  },
  {
   "cell_type": "code",
   "execution_count": 81,
   "metadata": {},
   "outputs": [
    {
     "name": "stdout",
     "output_type": "stream",
     "text": [
      "테스트 데이터 그룹(시퀀스) 총 개수: 42\n",
      "모델이 이상으로 판정한 그룹 수: 20\n",
      "Confusion Matrix:\n",
      "\n"
     ]
    },
    {
     "data": {
      "image/png": "[encoded data removed]",
      "text/plain": [
       "<Figure size 600x400 with 2 Axes>"
      ]
     },
     "metadata": {},
     "output_type": "display_data"
    },
    {
     "name": "stdout",
     "output_type": "stream",
     "text": [
      "Metrics DataFrame:\n",
      "     precision(정밀도)  recall(재현율)  f1-score(점수)\n",
      "정상        0.909091     1.000000      0.952381\n",
      "이상        1.000000     0.909091      0.952381\n"
     ]
    }
   ],
   "source": [
    "# 7. 결과 평가\n",
    "num_sequences = len(X_test)\n",
    "num_detected = predicted_anomalies.sum()\n",
    "\n",
    "print(f\"테스트 데이터 그룹(시퀀스) 총 개수: {num_sequences}\")\n",
    "print(f\"모델이 이상으로 판정한 그룹 수: {num_detected}\")\n",
    "\n",
    "# 혼동 행렬 및 분류 리포트 출력 및 시각화화\n",
    "cm = confusion_matrix(group_labels, predicted_anomalies)\n",
    "\n",
    "labels = [\"정상\", \"이상\"]\n",
    "\n",
    "# 한글 폰트 경로 설정\n",
    "plt.rcParams['font.family'] ='Malgun Gothic'\n",
    "plt.rcParams['axes.unicode_minus'] =False\n",
    "\n",
    "print(\"Confusion Matrix:\\n\")\n",
    "plt.figure(figsize=(6, 4))\n",
    "sns.heatmap(cm, annot=True, fmt='d', cmap='Blues', cbar=True, xticklabels=labels, yticklabels=labels)\n",
    "plt.xlabel(\"Predicted Label\")\n",
    "plt.ylabel(\"True Label\")\n",
    "plt.title(\"Confusion Matrix\")\n",
    "plt.show()\n",
    "\n",
    "# 2. 분류 리포트 출력\n",
    "report_dict = classification_report(group_labels, predicted_anomalies, target_names=[\"정상\", \"이상\"], output_dict=True)\n",
    "\n",
    "# pandas DataFrame으로 변환\n",
    "report_df = pd.DataFrame(report_dict).transpose()\n",
    "\n",
    "metrics_df = report_df.loc[['정상', '이상']][['precision', 'recall', 'f1-score']]\n",
    "\n",
    "metrics_df.columns = ['precision(정밀도)', 'recall(재현율)', 'f1-score(점수)']\n",
    "print(\"Metrics DataFrame:\\n\", metrics_df)"
   ]
  }
 ],
 "metadata": {
  "kernelspec": {
   "display_name": "torch_book",
   "language": "python",
   "name": "python3"
  },
  "language_info": {
   "codemirror_mode": {
    "name": "ipython",
    "version": 3
   },
   "file_extension": ".py",
   "mimetype": "text/x-python",
   "name": "python",
   "nbconvert_exporter": "python",
   "pygments_lexer": "ipython3",
   "version": "3.12.6"
  }
 },
 "nbformat": 4,
 "nbformat_minor": 2
}
