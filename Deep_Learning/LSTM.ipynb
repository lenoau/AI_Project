{
 "cells": [
  {
   "cell_type": "code",
   "execution_count": 18,
   "metadata": {},
   "outputs": [],
   "source": [
    "# 0. 필요한 라이브러리 임포트\n",
    "import pandas as pd\n",
    "import numpy as np\n",
    "from datetime import datetime\n",
    "from sklearn.preprocessing import LabelEncoder, MinMaxScaler\n",
    "from tensorflow.keras.models import Model\n",
    "from tensorflow.keras.layers import Input, LSTM, RepeatVector, TimeDistributed, Dense\n",
    "from tensorflow.keras.callbacks import EarlyStopping, Callback\n",
    "import matplotlib.pyplot as plt\n",
    "import pickle"
   ]
  },
  {
   "cell_type": "code",
   "execution_count": 19,
   "metadata": {},
   "outputs": [
    {
     "name": "stdout",
     "output_type": "stream",
     "text": [
      "데이터 샘플:\n"
     ]
    },
    {
     "data": {
      "text/html": [
       "<div>\n",
       "<style scoped>\n",
       "    .dataframe tbody tr th:only-of-type {\n",
       "        vertical-align: middle;\n",
       "    }\n",
       "\n",
       "    .dataframe tbody tr th {\n",
       "        vertical-align: top;\n",
       "    }\n",
       "\n",
       "    .dataframe thead th {\n",
       "        text-align: right;\n",
       "    }\n",
       "</style>\n",
       "<table border=\"1\" class=\"dataframe\">\n",
       "  <thead>\n",
       "    <tr style=\"text-align: right;\">\n",
       "      <th></th>\n",
       "      <th>epc_code</th>\n",
       "      <th>product_serial</th>\n",
       "      <th>product_name</th>\n",
       "      <th>hub_type</th>\n",
       "      <th>event_type</th>\n",
       "      <th>event_time</th>\n",
       "    </tr>\n",
       "  </thead>\n",
       "  <tbody>\n",
       "    <tr>\n",
       "      <th>0</th>\n",
       "      <td>001.8805843.584374.000000001</td>\n",
       "      <td>1</td>\n",
       "      <td>Product 1</td>\n",
       "      <td>Yeongju</td>\n",
       "      <td>commissioning</td>\n",
       "      <td>2025-01-21 17:54:00</td>\n",
       "    </tr>\n",
       "    <tr>\n",
       "      <th>1</th>\n",
       "      <td>001.8805843.584374.000000001</td>\n",
       "      <td>1</td>\n",
       "      <td>Product 1</td>\n",
       "      <td>Yeongju</td>\n",
       "      <td>aggregation</td>\n",
       "      <td>2025-01-21 18:15:00</td>\n",
       "    </tr>\n",
       "    <tr>\n",
       "      <th>2</th>\n",
       "      <td>001.8805843.584374.000000001</td>\n",
       "      <td>1</td>\n",
       "      <td>Product 1</td>\n",
       "      <td>Yeongju</td>\n",
       "      <td>WMS_inbound</td>\n",
       "      <td>2025-01-21 18:55:00</td>\n",
       "    </tr>\n",
       "    <tr>\n",
       "      <th>3</th>\n",
       "      <td>001.8805843.584374.000000001</td>\n",
       "      <td>1</td>\n",
       "      <td>Product 1</td>\n",
       "      <td>Yeongju</td>\n",
       "      <td>WMS_outbound</td>\n",
       "      <td>2025-01-25 07:35:00</td>\n",
       "    </tr>\n",
       "    <tr>\n",
       "      <th>4</th>\n",
       "      <td>001.8805843.584374.000000001</td>\n",
       "      <td>1</td>\n",
       "      <td>Product 1</td>\n",
       "      <td>Busan</td>\n",
       "      <td>stock_inbound(HUB)</td>\n",
       "      <td>2025-01-25 10:51:00</td>\n",
       "    </tr>\n",
       "  </tbody>\n",
       "</table>\n",
       "</div>"
      ],
      "text/plain": [
       "                       epc_code  product_serial product_name hub_type  \\\n",
       "0  001.8805843.584374.000000001               1    Product 1  Yeongju   \n",
       "1  001.8805843.584374.000000001               1    Product 1  Yeongju   \n",
       "2  001.8805843.584374.000000001               1    Product 1  Yeongju   \n",
       "3  001.8805843.584374.000000001               1    Product 1  Yeongju   \n",
       "4  001.8805843.584374.000000001               1    Product 1    Busan   \n",
       "\n",
       "           event_type          event_time  \n",
       "0       commissioning 2025-01-21 17:54:00  \n",
       "1         aggregation 2025-01-21 18:15:00  \n",
       "2         WMS_inbound 2025-01-21 18:55:00  \n",
       "3        WMS_outbound 2025-01-25 07:35:00  \n",
       "4  stock_inbound(HUB) 2025-01-25 10:51:00  "
      ]
     },
     "metadata": {},
     "output_type": "display_data"
    }
   ],
   "source": [
    "# 1. 데이터 불러오기 및 기본 전처리\n",
    "df = pd.read_csv(\"Dummy_02.csv\")\n",
    "\n",
    "# event_time 컬럼을 datetime 형식으로 변환\n",
    "df['event_time'] = pd.to_datetime(df['event_time'])\n",
    "\n",
    "# epc_code, product_serial, event_time 순으로 정렬 (각 제품별 이벤트 순서를 보장)\n",
    "df = df.sort_values(by=['epc_code', 'product_serial', 'event_time'])\n",
    "print(\"데이터 샘플:\")\n",
    "display(df.head())"
   ]
  },
  {
   "cell_type": "code",
   "execution_count": 20,
   "metadata": {},
   "outputs": [],
   "source": [
    "# 2. 시간 정보 처리: 각 제품별 첫 이벤트를 기준으로한 시간 차이(time_delta) 생성\n",
    "# (각 이벤트가 첫 이벤트 이후 몇 초 후에 발생했는지를 수치화)\n",
    "df['time_delta'] = df.groupby(['epc_code', 'product_serial'])['event_time'] \\\n",
    "                      .transform(lambda x: (x - x.min()).dt.total_seconds())"
   ]
  },
  {
   "cell_type": "code",
   "execution_count": 21,
   "metadata": {},
   "outputs": [],
   "source": [
    "# 3. 범주형 변수 인코딩: event_type과 hub_type\n",
    "# 이벤트 종류(event_type) 인코딩\n",
    "le_event = LabelEncoder()\n",
    "df['event_type_enc'] = le_event.fit_transform(df['event_type'])\n",
    "\n",
    "# 허브 타입(hub_type) 인코딩\n",
    "le_hub = LabelEncoder()\n",
    "df['hub_type_enc'] = le_hub.fit_transform(df['hub_type'])"
   ]
  },
  {
   "cell_type": "code",
   "execution_count": 22,
   "metadata": {},
   "outputs": [
    {
     "name": "stdout",
     "output_type": "stream",
     "text": [
      "전처리 후 데이터 샘플:\n"
     ]
    },
    {
     "data": {
      "text/html": [
       "<div>\n",
       "<style scoped>\n",
       "    .dataframe tbody tr th:only-of-type {\n",
       "        vertical-align: middle;\n",
       "    }\n",
       "\n",
       "    .dataframe tbody tr th {\n",
       "        vertical-align: top;\n",
       "    }\n",
       "\n",
       "    .dataframe thead th {\n",
       "        text-align: right;\n",
       "    }\n",
       "</style>\n",
       "<table border=\"1\" class=\"dataframe\">\n",
       "  <thead>\n",
       "    <tr style=\"text-align: right;\">\n",
       "      <th></th>\n",
       "      <th>epc_code</th>\n",
       "      <th>product_serial</th>\n",
       "      <th>event_time</th>\n",
       "      <th>time_delta</th>\n",
       "      <th>event_type</th>\n",
       "      <th>event_type_enc</th>\n",
       "      <th>hub_type</th>\n",
       "      <th>hub_type_enc</th>\n",
       "      <th>time_delta_scaled</th>\n",
       "    </tr>\n",
       "  </thead>\n",
       "  <tbody>\n",
       "    <tr>\n",
       "      <th>0</th>\n",
       "      <td>001.8805843.584374.000000001</td>\n",
       "      <td>1</td>\n",
       "      <td>2025-01-21 17:54:00</td>\n",
       "      <td>0.0</td>\n",
       "      <td>commissioning</td>\n",
       "      <td>3</td>\n",
       "      <td>Yeongju</td>\n",
       "      <td>5</td>\n",
       "      <td>0.000000</td>\n",
       "    </tr>\n",
       "    <tr>\n",
       "      <th>1</th>\n",
       "      <td>001.8805843.584374.000000001</td>\n",
       "      <td>1</td>\n",
       "      <td>2025-01-21 18:15:00</td>\n",
       "      <td>1260.0</td>\n",
       "      <td>aggregation</td>\n",
       "      <td>2</td>\n",
       "      <td>Yeongju</td>\n",
       "      <td>5</td>\n",
       "      <td>0.000105</td>\n",
       "    </tr>\n",
       "    <tr>\n",
       "      <th>2</th>\n",
       "      <td>001.8805843.584374.000000001</td>\n",
       "      <td>1</td>\n",
       "      <td>2025-01-21 18:55:00</td>\n",
       "      <td>3660.0</td>\n",
       "      <td>WMS_inbound</td>\n",
       "      <td>0</td>\n",
       "      <td>Yeongju</td>\n",
       "      <td>5</td>\n",
       "      <td>0.000304</td>\n",
       "    </tr>\n",
       "    <tr>\n",
       "      <th>3</th>\n",
       "      <td>001.8805843.584374.000000001</td>\n",
       "      <td>1</td>\n",
       "      <td>2025-01-25 07:35:00</td>\n",
       "      <td>308460.0</td>\n",
       "      <td>WMS_outbound</td>\n",
       "      <td>1</td>\n",
       "      <td>Yeongju</td>\n",
       "      <td>5</td>\n",
       "      <td>0.025655</td>\n",
       "    </tr>\n",
       "    <tr>\n",
       "      <th>4</th>\n",
       "      <td>001.8805843.584374.000000001</td>\n",
       "      <td>1</td>\n",
       "      <td>2025-01-25 10:51:00</td>\n",
       "      <td>320220.0</td>\n",
       "      <td>stock_inbound(HUB)</td>\n",
       "      <td>4</td>\n",
       "      <td>Busan</td>\n",
       "      <td>0</td>\n",
       "      <td>0.026633</td>\n",
       "    </tr>\n",
       "  </tbody>\n",
       "</table>\n",
       "</div>"
      ],
      "text/plain": [
       "                       epc_code  product_serial          event_time  \\\n",
       "0  001.8805843.584374.000000001               1 2025-01-21 17:54:00   \n",
       "1  001.8805843.584374.000000001               1 2025-01-21 18:15:00   \n",
       "2  001.8805843.584374.000000001               1 2025-01-21 18:55:00   \n",
       "3  001.8805843.584374.000000001               1 2025-01-25 07:35:00   \n",
       "4  001.8805843.584374.000000001               1 2025-01-25 10:51:00   \n",
       "\n",
       "   time_delta          event_type  event_type_enc hub_type  hub_type_enc  \\\n",
       "0         0.0       commissioning               3  Yeongju             5   \n",
       "1      1260.0         aggregation               2  Yeongju             5   \n",
       "2      3660.0         WMS_inbound               0  Yeongju             5   \n",
       "3    308460.0        WMS_outbound               1  Yeongju             5   \n",
       "4    320220.0  stock_inbound(HUB)               4    Busan             0   \n",
       "\n",
       "   time_delta_scaled  \n",
       "0           0.000000  \n",
       "1           0.000105  \n",
       "2           0.000304  \n",
       "3           0.025655  \n",
       "4           0.026633  "
      ]
     },
     "metadata": {},
     "output_type": "display_data"
    }
   ],
   "source": [
    "# 4. 수치형 변수 정규화: 시간 차이(time_delta)를 [0,1] 범위로 스케일링\n",
    "scaler = MinMaxScaler()\n",
    "df['time_delta_scaled'] = scaler.fit_transform(df[['time_delta']])\n",
    "\n",
    "# 확인\n",
    "print(\"전처리 후 데이터 샘플:\")\n",
    "display(df[['epc_code', 'product_serial', 'event_time', 'time_delta', \n",
    "          'event_type', 'event_type_enc', 'hub_type', 'hub_type_enc', 'time_delta_scaled']].head())"
   ]
  },
  {
   "cell_type": "code",
   "execution_count": 23,
   "metadata": {},
   "outputs": [
    {
     "name": "stdout",
     "output_type": "stream",
     "text": [
      "구성된 시퀀스 데이터 shape: (11103, 10, 3)\n"
     ]
    },
    {
     "name": "stderr",
     "output_type": "stream",
     "text": [
      "C:\\Users\\ysjgo\\AppData\\Local\\Temp\\ipykernel_19916\\4252529216.py:25: DeprecationWarning: DataFrameGroupBy.apply operated on the grouping columns. This behavior is deprecated, and in a future version of pandas the grouping columns will be excluded from the operation. Either pass `include_groups=False` to exclude the groupings or explicitly select the grouping columns after groupby to silence this warning.\n",
      "  sequences = grouped.apply(lambda x: create_sequence(x, max_seq_length, feature_columns))\n"
     ]
    }
   ],
   "source": [
    "# 5. 시퀀스 데이터 구성\n",
    "# 각 제품(또는 epc_code, product_serial 단위)의 이벤트 시퀀스를 구성합니다.\n",
    "# 사용할 피처: event_type_enc, hub_type_enc, time_delta_scaled\n",
    "feature_columns = ['event_type_enc', 'hub_type_enc', 'time_delta_scaled']\n",
    "max_seq_length = 10  # 각 시퀀스의 최대 길이 (필요에 따라 조정)\n",
    "\n",
    "def create_sequence(group, max_seq_length, feature_columns):\n",
    "    \"\"\"\n",
    "    그룹별(제품별) 데이터를 입력받아, feature_columns에 해당하는 시퀀스 데이터를 생성합니다.\n",
    "    시퀀스 길이가 max_seq_length보다 짧으면 0으로 패딩합니다.\n",
    "    \"\"\"\n",
    "    # 해당 그룹의 데이터를 시간 순으로 정렬된 상태에서 feature_columns 추출\n",
    "    seq = group[feature_columns].values  # shape: (num_events, num_features)\n",
    "    \n",
    "    # 시퀀스 길이가 max_seq_length보다 작으면 패딩 (뒤쪽에 0으로 채움)\n",
    "    if len(seq) < max_seq_length:\n",
    "        padding = np.zeros((max_seq_length - len(seq), len(feature_columns)))\n",
    "        seq = np.vstack([seq, padding])\n",
    "    else:\n",
    "        seq = seq[:max_seq_length]\n",
    "    return seq\n",
    "\n",
    "# 각 제품별 그룹으로 시퀀스 구성\n",
    "grouped = df.groupby(['epc_code', 'product_serial'])\n",
    "sequences = grouped.apply(lambda x: create_sequence(x, max_seq_length, feature_columns))\n",
    "\n",
    "# sequences는 pandas Series 형태이므로 numpy array로 변환\n",
    "X = np.stack(sequences.values)\n",
    "print(\"구성된 시퀀스 데이터 shape:\", X.shape)  \n",
    "# 결과 shape 예시: (제품 수, max_seq_length, feature 개수)"
   ]
  },
  {
   "cell_type": "code",
   "execution_count": 24,
   "metadata": {},
   "outputs": [
    {
     "data": {
      "text/html": [
       "<pre style=\"white-space:pre;overflow-x:auto;line-height:normal;font-family:Menlo,'DejaVu Sans Mono',consolas,'Courier New',monospace\"><span style=\"font-weight: bold\">Model: \"functional_16\"</span>\n",
       "</pre>\n"
      ],
      "text/plain": [
       "\u001b[1mModel: \"functional_16\"\u001b[0m\n"
      ]
     },
     "metadata": {},
     "output_type": "display_data"
    },
    {
     "data": {
      "text/html": [
       "<pre style=\"white-space:pre;overflow-x:auto;line-height:normal;font-family:Menlo,'DejaVu Sans Mono',consolas,'Courier New',monospace\">┏━━━━━━━━━━━━━━━━━━━━━━━━━━━━━━━━━┳━━━━━━━━━━━━━━━━━━━━━━━━┳━━━━━━━━━━━━━━━┓\n",
       "┃<span style=\"font-weight: bold\"> Layer (type)                    </span>┃<span style=\"font-weight: bold\"> Output Shape           </span>┃<span style=\"font-weight: bold\">       Param # </span>┃\n",
       "┡━━━━━━━━━━━━━━━━━━━━━━━━━━━━━━━━━╇━━━━━━━━━━━━━━━━━━━━━━━━╇━━━━━━━━━━━━━━━┩\n",
       "│ input_layer_16 (<span style=\"color: #0087ff; text-decoration-color: #0087ff\">InputLayer</span>)     │ (<span style=\"color: #00d7ff; text-decoration-color: #00d7ff\">None</span>, <span style=\"color: #00af00; text-decoration-color: #00af00\">10</span>, <span style=\"color: #00af00; text-decoration-color: #00af00\">3</span>)          │             <span style=\"color: #00af00; text-decoration-color: #00af00\">0</span> │\n",
       "├─────────────────────────────────┼────────────────────────┼───────────────┤\n",
       "│ lstm_32 (<span style=\"color: #0087ff; text-decoration-color: #0087ff\">LSTM</span>)                  │ (<span style=\"color: #00d7ff; text-decoration-color: #00d7ff\">None</span>, <span style=\"color: #00af00; text-decoration-color: #00af00\">16</span>)             │         <span style=\"color: #00af00; text-decoration-color: #00af00\">1,280</span> │\n",
       "├─────────────────────────────────┼────────────────────────┼───────────────┤\n",
       "│ repeat_vector_16 (<span style=\"color: #0087ff; text-decoration-color: #0087ff\">RepeatVector</span>) │ (<span style=\"color: #00d7ff; text-decoration-color: #00d7ff\">None</span>, <span style=\"color: #00af00; text-decoration-color: #00af00\">10</span>, <span style=\"color: #00af00; text-decoration-color: #00af00\">16</span>)         │             <span style=\"color: #00af00; text-decoration-color: #00af00\">0</span> │\n",
       "├─────────────────────────────────┼────────────────────────┼───────────────┤\n",
       "│ lstm_33 (<span style=\"color: #0087ff; text-decoration-color: #0087ff\">LSTM</span>)                  │ (<span style=\"color: #00d7ff; text-decoration-color: #00d7ff\">None</span>, <span style=\"color: #00af00; text-decoration-color: #00af00\">10</span>, <span style=\"color: #00af00; text-decoration-color: #00af00\">3</span>)          │           <span style=\"color: #00af00; text-decoration-color: #00af00\">240</span> │\n",
       "├─────────────────────────────────┼────────────────────────┼───────────────┤\n",
       "│ time_distributed_16             │ (<span style=\"color: #00d7ff; text-decoration-color: #00d7ff\">None</span>, <span style=\"color: #00af00; text-decoration-color: #00af00\">10</span>, <span style=\"color: #00af00; text-decoration-color: #00af00\">3</span>)          │            <span style=\"color: #00af00; text-decoration-color: #00af00\">12</span> │\n",
       "│ (<span style=\"color: #0087ff; text-decoration-color: #0087ff\">TimeDistributed</span>)               │                        │               │\n",
       "└─────────────────────────────────┴────────────────────────┴───────────────┘\n",
       "</pre>\n"
      ],
      "text/plain": [
       "┏━━━━━━━━━━━━━━━━━━━━━━━━━━━━━━━━━┳━━━━━━━━━━━━━━━━━━━━━━━━┳━━━━━━━━━━━━━━━┓\n",
       "┃\u001b[1m \u001b[0m\u001b[1mLayer (type)                   \u001b[0m\u001b[1m \u001b[0m┃\u001b[1m \u001b[0m\u001b[1mOutput Shape          \u001b[0m\u001b[1m \u001b[0m┃\u001b[1m \u001b[0m\u001b[1m      Param #\u001b[0m\u001b[1m \u001b[0m┃\n",
       "┡━━━━━━━━━━━━━━━━━━━━━━━━━━━━━━━━━╇━━━━━━━━━━━━━━━━━━━━━━━━╇━━━━━━━━━━━━━━━┩\n",
       "│ input_layer_16 (\u001b[38;5;33mInputLayer\u001b[0m)     │ (\u001b[38;5;45mNone\u001b[0m, \u001b[38;5;34m10\u001b[0m, \u001b[38;5;34m3\u001b[0m)          │             \u001b[38;5;34m0\u001b[0m │\n",
       "├─────────────────────────────────┼────────────────────────┼───────────────┤\n",
       "│ lstm_32 (\u001b[38;5;33mLSTM\u001b[0m)                  │ (\u001b[38;5;45mNone\u001b[0m, \u001b[38;5;34m16\u001b[0m)             │         \u001b[38;5;34m1,280\u001b[0m │\n",
       "├─────────────────────────────────┼────────────────────────┼───────────────┤\n",
       "│ repeat_vector_16 (\u001b[38;5;33mRepeatVector\u001b[0m) │ (\u001b[38;5;45mNone\u001b[0m, \u001b[38;5;34m10\u001b[0m, \u001b[38;5;34m16\u001b[0m)         │             \u001b[38;5;34m0\u001b[0m │\n",
       "├─────────────────────────────────┼────────────────────────┼───────────────┤\n",
       "│ lstm_33 (\u001b[38;5;33mLSTM\u001b[0m)                  │ (\u001b[38;5;45mNone\u001b[0m, \u001b[38;5;34m10\u001b[0m, \u001b[38;5;34m3\u001b[0m)          │           \u001b[38;5;34m240\u001b[0m │\n",
       "├─────────────────────────────────┼────────────────────────┼───────────────┤\n",
       "│ time_distributed_16             │ (\u001b[38;5;45mNone\u001b[0m, \u001b[38;5;34m10\u001b[0m, \u001b[38;5;34m3\u001b[0m)          │            \u001b[38;5;34m12\u001b[0m │\n",
       "│ (\u001b[38;5;33mTimeDistributed\u001b[0m)               │                        │               │\n",
       "└─────────────────────────────────┴────────────────────────┴───────────────┘\n"
      ]
     },
     "metadata": {},
     "output_type": "display_data"
    },
    {
     "data": {
      "text/html": [
       "<pre style=\"white-space:pre;overflow-x:auto;line-height:normal;font-family:Menlo,'DejaVu Sans Mono',consolas,'Courier New',monospace\"><span style=\"font-weight: bold\"> Total params: </span><span style=\"color: #00af00; text-decoration-color: #00af00\">1,532</span> (5.98 KB)\n",
       "</pre>\n"
      ],
      "text/plain": [
       "\u001b[1m Total params: \u001b[0m\u001b[38;5;34m1,532\u001b[0m (5.98 KB)\n"
      ]
     },
     "metadata": {},
     "output_type": "display_data"
    },
    {
     "data": {
      "text/html": [
       "<pre style=\"white-space:pre;overflow-x:auto;line-height:normal;font-family:Menlo,'DejaVu Sans Mono',consolas,'Courier New',monospace\"><span style=\"font-weight: bold\"> Trainable params: </span><span style=\"color: #00af00; text-decoration-color: #00af00\">1,532</span> (5.98 KB)\n",
       "</pre>\n"
      ],
      "text/plain": [
       "\u001b[1m Trainable params: \u001b[0m\u001b[38;5;34m1,532\u001b[0m (5.98 KB)\n"
      ]
     },
     "metadata": {},
     "output_type": "display_data"
    },
    {
     "data": {
      "text/html": [
       "<pre style=\"white-space:pre;overflow-x:auto;line-height:normal;font-family:Menlo,'DejaVu Sans Mono',consolas,'Courier New',monospace\"><span style=\"font-weight: bold\"> Non-trainable params: </span><span style=\"color: #00af00; text-decoration-color: #00af00\">0</span> (0.00 B)\n",
       "</pre>\n"
      ],
      "text/plain": [
       "\u001b[1m Non-trainable params: \u001b[0m\u001b[38;5;34m0\u001b[0m (0.00 B)\n"
      ]
     },
     "metadata": {},
     "output_type": "display_data"
    }
   ],
   "source": [
    "# 6. LSTM Autoencoder 모델 구성\n",
    "# 입력 데이터 shape: (timesteps, input_dim)\n",
    "input_dim = X.shape[2]    # feature 수\n",
    "timesteps = X.shape[1]    # 시퀀스 길이\n",
    "latent_dim = 16           # 잠재 공간 차원 (조정 가능)\n",
    "\n",
    "# 모델 구성\n",
    "inputs = Input(shape=(timesteps, input_dim))\n",
    "# 인코더: LSTM을 사용하여 시퀀스를 잠재 벡터로 인코딩\n",
    "encoded = LSTM(latent_dim, activation='tanh')(inputs)\n",
    "\n",
    "# 디코더: RepeatVector와 LSTM을 사용하여 시퀀스를 재구성\n",
    "decoded = RepeatVector(timesteps)(encoded)\n",
    "decoded = LSTM(input_dim, activation='tanh', return_sequences=True)(decoded)\n",
    "decoded = TimeDistributed(Dense(input_dim))(decoded)\n",
    "\n",
    "# Autoencoder 모델 정의 및 컴파일\n",
    "autoencoder = Model(inputs, decoded)\n",
    "autoencoder.compile(optimizer='adam', loss='mse')\n",
    "autoencoder.summary()"
   ]
  },
  {
   "cell_type": "code",
   "execution_count": 25,
   "metadata": {},
   "outputs": [],
   "source": [
    "# 7. 커스텀 콜백 정의: 매 에포크마다 현재 모델로 예측한 재구성 오차를 기준으로\n",
    "#    (재구성 오차의 평균 + 3×표준편차)를 임계치로 하여, 초과하는 샘플의 개수를 계산\n",
    "class AnomalyCountCallback(Callback):\n",
    "    def __init__(self, training_data):\n",
    "        super().__init__()\n",
    "        self.training_data = training_data\n",
    "        self.epoch_anomaly_counts = []\n",
    "    \n",
    "    def on_epoch_end(self, epoch, logs=None):\n",
    "        # 현재 모델로 전체 학습 데이터에 대해 예측\n",
    "        X_pred = self.model.predict(self.training_data, verbose=0)\n",
    "        # 각 샘플별 재구성 오차 (타임스텝과 피처에 대해 MSE 계산)\n",
    "        reconstruction_errors = np.mean(np.square(X_pred - self.training_data), axis=(1,2))\n",
    "        # 현재 에포크의 임계치: 평균 + 3 * 표준편차\n",
    "        threshold = np.mean(reconstruction_errors) + 3 * np.std(reconstruction_errors)\n",
    "        anomaly_count = np.sum(reconstruction_errors > threshold)\n",
    "        self.epoch_anomaly_counts.append(anomaly_count)"
   ]
  },
  {
   "cell_type": "code",
   "execution_count": 26,
   "metadata": {},
   "outputs": [
    {
     "name": "stdout",
     "output_type": "stream",
     "text": [
      "Epoch 1/50\n",
      "\u001b[1m313/313\u001b[0m \u001b[32m━━━━━━━━━━━━━━━━━━━━\u001b[0m\u001b[37m\u001b[0m \u001b[1m4s\u001b[0m 7ms/step - loss: 11.3621 - val_loss: 6.7416\n",
      "Epoch 2/50\n",
      "\u001b[1m313/313\u001b[0m \u001b[32m━━━━━━━━━━━━━━━━━━━━\u001b[0m\u001b[37m\u001b[0m \u001b[1m1s\u001b[0m 4ms/step - loss: 5.9901 - val_loss: 4.3305\n",
      "Epoch 3/50\n",
      "\u001b[1m313/313\u001b[0m \u001b[32m━━━━━━━━━━━━━━━━━━━━\u001b[0m\u001b[37m\u001b[0m \u001b[1m1s\u001b[0m 4ms/step - loss: 3.9297 - val_loss: 3.0233\n",
      "Epoch 4/50\n",
      "\u001b[1m313/313\u001b[0m \u001b[32m━━━━━━━━━━━━━━━━━━━━\u001b[0m\u001b[37m\u001b[0m \u001b[1m1s\u001b[0m 4ms/step - loss: 2.7726 - val_loss: 2.2224\n",
      "Epoch 5/50\n",
      "\u001b[1m313/313\u001b[0m \u001b[32m━━━━━━━━━━━━━━━━━━━━\u001b[0m\u001b[37m\u001b[0m \u001b[1m1s\u001b[0m 4ms/step - loss: 2.0714 - val_loss: 1.7586\n",
      "Epoch 6/50\n",
      "\u001b[1m313/313\u001b[0m \u001b[32m━━━━━━━━━━━━━━━━━━━━\u001b[0m\u001b[37m\u001b[0m \u001b[1m1s\u001b[0m 4ms/step - loss: 1.6619 - val_loss: 1.4966\n",
      "Epoch 7/50\n",
      "\u001b[1m313/313\u001b[0m \u001b[32m━━━━━━━━━━━━━━━━━━━━\u001b[0m\u001b[37m\u001b[0m \u001b[1m1s\u001b[0m 4ms/step - loss: 1.4303 - val_loss: 1.3429\n",
      "Epoch 8/50\n",
      "\u001b[1m313/313\u001b[0m \u001b[32m━━━━━━━━━━━━━━━━━━━━\u001b[0m\u001b[37m\u001b[0m \u001b[1m1s\u001b[0m 4ms/step - loss: 1.2923 - val_loss: 1.2442\n",
      "Epoch 9/50\n",
      "\u001b[1m313/313\u001b[0m \u001b[32m━━━━━━━━━━━━━━━━━━━━\u001b[0m\u001b[37m\u001b[0m \u001b[1m1s\u001b[0m 4ms/step - loss: 1.2053 - val_loss: 1.1686\n",
      "Epoch 10/50\n",
      "\u001b[1m313/313\u001b[0m \u001b[32m━━━━━━━━━━━━━━━━━━━━\u001b[0m\u001b[37m\u001b[0m \u001b[1m1s\u001b[0m 4ms/step - loss: 1.1268 - val_loss: 1.1123\n",
      "Epoch 11/50\n",
      "\u001b[1m313/313\u001b[0m \u001b[32m━━━━━━━━━━━━━━━━━━━━\u001b[0m\u001b[37m\u001b[0m \u001b[1m1s\u001b[0m 4ms/step - loss: 1.0827 - val_loss: 1.0749\n",
      "Epoch 12/50\n",
      "\u001b[1m313/313\u001b[0m \u001b[32m━━━━━━━━━━━━━━━━━━━━\u001b[0m\u001b[37m\u001b[0m \u001b[1m1s\u001b[0m 4ms/step - loss: 1.0572 - val_loss: 1.0404\n",
      "Epoch 13/50\n",
      "\u001b[1m313/313\u001b[0m \u001b[32m━━━━━━━━━━━━━━━━━━━━\u001b[0m\u001b[37m\u001b[0m \u001b[1m1s\u001b[0m 4ms/step - loss: 1.0188 - val_loss: 1.0045\n",
      "Epoch 14/50\n",
      "\u001b[1m313/313\u001b[0m \u001b[32m━━━━━━━━━━━━━━━━━━━━\u001b[0m\u001b[37m\u001b[0m \u001b[1m1s\u001b[0m 4ms/step - loss: 0.9803 - val_loss: 0.9581\n",
      "Epoch 15/50\n",
      "\u001b[1m313/313\u001b[0m \u001b[32m━━━━━━━━━━━━━━━━━━━━\u001b[0m\u001b[37m\u001b[0m \u001b[1m1s\u001b[0m 4ms/step - loss: 0.9898 - val_loss: 0.9761\n",
      "Epoch 16/50\n",
      "\u001b[1m313/313\u001b[0m \u001b[32m━━━━━━━━━━━━━━━━━━━━\u001b[0m\u001b[37m\u001b[0m \u001b[1m1s\u001b[0m 4ms/step - loss: 0.9456 - val_loss: 0.9236\n",
      "Epoch 17/50\n",
      "\u001b[1m313/313\u001b[0m \u001b[32m━━━━━━━━━━━━━━━━━━━━\u001b[0m\u001b[37m\u001b[0m \u001b[1m1s\u001b[0m 4ms/step - loss: 0.9036 - val_loss: 0.8969\n",
      "Epoch 18/50\n",
      "\u001b[1m313/313\u001b[0m \u001b[32m━━━━━━━━━━━━━━━━━━━━\u001b[0m\u001b[37m\u001b[0m \u001b[1m1s\u001b[0m 4ms/step - loss: 0.8809 - val_loss: 0.8733\n",
      "Epoch 19/50\n",
      "\u001b[1m313/313\u001b[0m \u001b[32m━━━━━━━━━━━━━━━━━━━━\u001b[0m\u001b[37m\u001b[0m \u001b[1m1s\u001b[0m 4ms/step - loss: 0.8580 - val_loss: 0.8508\n",
      "Epoch 20/50\n",
      "\u001b[1m313/313\u001b[0m \u001b[32m━━━━━━━━━━━━━━━━━━━━\u001b[0m\u001b[37m\u001b[0m \u001b[1m1s\u001b[0m 4ms/step - loss: 0.9064 - val_loss: 0.9238\n",
      "Epoch 21/50\n",
      "\u001b[1m313/313\u001b[0m \u001b[32m━━━━━━━━━━━━━━━━━━━━\u001b[0m\u001b[37m\u001b[0m \u001b[1m1s\u001b[0m 4ms/step - loss: 0.8661 - val_loss: 0.8238\n",
      "Epoch 22/50\n",
      "\u001b[1m313/313\u001b[0m \u001b[32m━━━━━━━━━━━━━━━━━━━━\u001b[0m\u001b[37m\u001b[0m \u001b[1m1s\u001b[0m 4ms/step - loss: 0.8091 - val_loss: 0.7998\n",
      "Epoch 23/50\n",
      "\u001b[1m313/313\u001b[0m \u001b[32m━━━━━━━━━━━━━━━━━━━━\u001b[0m\u001b[37m\u001b[0m \u001b[1m1s\u001b[0m 4ms/step - loss: 0.7894 - val_loss: 0.7783\n",
      "Epoch 24/50\n",
      "\u001b[1m313/313\u001b[0m \u001b[32m━━━━━━━━━━━━━━━━━━━━\u001b[0m\u001b[37m\u001b[0m \u001b[1m1s\u001b[0m 4ms/step - loss: 0.7671 - val_loss: 0.7551\n",
      "Epoch 25/50\n",
      "\u001b[1m313/313\u001b[0m \u001b[32m━━━━━━━━━━━━━━━━━━━━\u001b[0m\u001b[37m\u001b[0m \u001b[1m1s\u001b[0m 4ms/step - loss: 0.7427 - val_loss: 0.7349\n",
      "Epoch 26/50\n",
      "\u001b[1m313/313\u001b[0m \u001b[32m━━━━━━━━━━━━━━━━━━━━\u001b[0m\u001b[37m\u001b[0m \u001b[1m1s\u001b[0m 4ms/step - loss: 0.7195 - val_loss: 0.7042\n",
      "Epoch 27/50\n",
      "\u001b[1m313/313\u001b[0m \u001b[32m━━━━━━━━━━━━━━━━━━━━\u001b[0m\u001b[37m\u001b[0m \u001b[1m1s\u001b[0m 4ms/step - loss: 0.6935 - val_loss: 0.6812\n",
      "Epoch 28/50\n",
      "\u001b[1m313/313\u001b[0m \u001b[32m━━━━━━━━━━━━━━━━━━━━\u001b[0m\u001b[37m\u001b[0m \u001b[1m1s\u001b[0m 4ms/step - loss: 0.6676 - val_loss: 0.6575\n",
      "Epoch 29/50\n",
      "\u001b[1m313/313\u001b[0m \u001b[32m━━━━━━━━━━━━━━━━━━━━\u001b[0m\u001b[37m\u001b[0m \u001b[1m1s\u001b[0m 4ms/step - loss: 0.6489 - val_loss: 0.6439\n",
      "Epoch 30/50\n",
      "\u001b[1m313/313\u001b[0m \u001b[32m━━━━━━━━━━━━━━━━━━━━\u001b[0m\u001b[37m\u001b[0m \u001b[1m1s\u001b[0m 4ms/step - loss: 0.6235 - val_loss: 0.6032\n",
      "Epoch 31/50\n",
      "\u001b[1m313/313\u001b[0m \u001b[32m━━━━━━━━━━━━━━━━━━━━\u001b[0m\u001b[37m\u001b[0m \u001b[1m1s\u001b[0m 4ms/step - loss: 0.5937 - val_loss: 0.5780\n",
      "Epoch 32/50\n",
      "\u001b[1m313/313\u001b[0m \u001b[32m━━━━━━━━━━━━━━━━━━━━\u001b[0m\u001b[37m\u001b[0m \u001b[1m1s\u001b[0m 4ms/step - loss: 0.5634 - val_loss: 0.5426\n",
      "Epoch 33/50\n",
      "\u001b[1m313/313\u001b[0m \u001b[32m━━━━━━━━━━━━━━━━━━━━\u001b[0m\u001b[37m\u001b[0m \u001b[1m1s\u001b[0m 4ms/step - loss: 0.5330 - val_loss: 0.5219\n",
      "Epoch 34/50\n",
      "\u001b[1m313/313\u001b[0m \u001b[32m━━━━━━━━━━━━━━━━━━━━\u001b[0m\u001b[37m\u001b[0m \u001b[1m1s\u001b[0m 4ms/step - loss: 0.5127 - val_loss: 0.4997\n",
      "Epoch 35/50\n",
      "\u001b[1m313/313\u001b[0m \u001b[32m━━━━━━━━━━━━━━━━━━━━\u001b[0m\u001b[37m\u001b[0m \u001b[1m1s\u001b[0m 5ms/step - loss: 1.2230 - val_loss: 0.7187\n",
      "Epoch 36/50\n",
      "\u001b[1m313/313\u001b[0m \u001b[32m━━━━━━━━━━━━━━━━━━━━\u001b[0m\u001b[37m\u001b[0m \u001b[1m1s\u001b[0m 4ms/step - loss: 0.6354 - val_loss: 0.5598\n",
      "Epoch 37/50\n",
      "\u001b[1m313/313\u001b[0m \u001b[32m━━━━━━━━━━━━━━━━━━━━\u001b[0m\u001b[37m\u001b[0m \u001b[1m1s\u001b[0m 4ms/step - loss: 0.5495 - val_loss: 0.5437\n",
      "Epoch 38/50\n",
      "\u001b[1m313/313\u001b[0m \u001b[32m━━━━━━━━━━━━━━━━━━━━\u001b[0m\u001b[37m\u001b[0m \u001b[1m1s\u001b[0m 4ms/step - loss: 0.5346 - val_loss: 0.5328\n",
      "Epoch 39/50\n",
      "\u001b[1m313/313\u001b[0m \u001b[32m━━━━━━━━━━━━━━━━━━━━\u001b[0m\u001b[37m\u001b[0m \u001b[1m1s\u001b[0m 5ms/step - loss: 0.5256 - val_loss: 0.5233\n"
     ]
    },
    {
     "data": {
      "image/png": "[encoded data removed]",
      "text/plain": [
       "<Figure size 640x480 with 1 Axes>"
      ]
     },
     "metadata": {},
     "output_type": "display_data"
    },
    {
     "data": {
      "image/png": "[encoded data removed]",
      "text/plain": [
       "<Figure size 800x400 with 1 Axes>"
      ]
     },
     "metadata": {},
     "output_type": "display_data"
    },
    {
     "name": "stdout",
     "output_type": "stream",
     "text": [
      "\u001b[1m347/347\u001b[0m \u001b[32m━━━━━━━━━━━━━━━━━━━━\u001b[0m\u001b[37m\u001b[0m \u001b[1m0s\u001b[0m 1ms/step\n",
      "전체 데이터의 평균 재구성 오차: 0.4960789222257345\n",
      "최종 임계치: 0.7594702986169817\n",
      "이상 데이터 갯수: 0\n"
     ]
    }
   ],
   "source": [
    "# 8. 모델 학습 (정상 데이터만 사용)\n",
    "es = EarlyStopping(monitor='val_loss', patience=5, restore_best_weights=True)\n",
    "anomaly_callback = AnomalyCountCallback(X)\n",
    "\n",
    "history = autoencoder.fit(X, X, \n",
    "                          epochs=50, \n",
    "                          batch_size=32, \n",
    "                          validation_split=0.1, \n",
    "                          callbacks=[es, anomaly_callback],\n",
    "                          verbose=1)\n",
    "\n",
    "plt.plot(history.history['loss'], label='Train Loss')\n",
    "plt.plot(history.history['val_loss'], label='Val Loss')\n",
    "plt.xlabel('Epoch')\n",
    "plt.ylabel('MSE Loss')\n",
    "plt.legend()\n",
    "plt.title('Autoencoder Training Loss')\n",
    "plt.show()\n",
    "\n",
    "# 학습 완료 후 에포크별 임계치를 넘은 데이터 갯수 시각화\n",
    "plt.figure(figsize=(8,4))\n",
    "plt.plot(range(1, len(anomaly_callback.epoch_anomaly_counts) + 1), \n",
    "         anomaly_callback.epoch_anomaly_counts, marker='o')\n",
    "plt.xlabel('Epoch')\n",
    "plt.ylabel('Anomaly Count')\n",
    "plt.title('Epoch vs. Anomaly Count (Threshold = mean + 3×std)')\n",
    "plt.grid(True)\n",
    "plt.show()\n",
    "\n",
    "# 최종 모델로 전체 데이터에 대한 재구성 오차 및 최종 임계치 계산\n",
    "X_pred = autoencoder.predict(X)\n",
    "reconstruction_errors = np.mean(np.square(X_pred - X), axis=(1,2))\n",
    "final_threshold = np.mean(reconstruction_errors) + 3 * np.std(reconstruction_errors)\n",
    "final_anomaly_count = np.sum(reconstruction_errors > final_threshold)\n",
    "print(\"전체 데이터의 평균 재구성 오차:\", np.mean(reconstruction_errors))\n",
    "print(\"최종 임계치:\", final_threshold)\n",
    "print(\"이상 데이터 갯수:\", final_anomaly_count)"
   ]
  },
  {
   "cell_type": "code",
   "execution_count": 27,
   "metadata": {},
   "outputs": [
    {
     "name": "stdout",
     "output_type": "stream",
     "text": [
      "\u001b[1m347/347\u001b[0m \u001b[32m━━━━━━━━━━━━━━━━━━━━\u001b[0m\u001b[37m\u001b[0m \u001b[1m0s\u001b[0m 1ms/step\n",
      "최종 임계치:"
     ]
    },
    {
     "name": "stderr",
     "output_type": "stream",
     "text": [
      "WARNING:absl:You are saving your model as an HDF5 file via `model.save()` or `keras.saving.save_model(model)`. This file format is considered legacy. We recommend using instead the native Keras format, e.g. `model.save('my_model.keras')` or `keras.saving.save_model(model, 'my_model.keras')`. \n"
     ]
    },
    {
     "name": "stdout",
     "output_type": "stream",
     "text": [
      " 0.7594702986169817\n"
     ]
    }
   ],
   "source": [
    "# 9. 학습 후 최종 모델 평가 시, 전체 데이터에 대한 재구성 오차와 임계치를 계산\n",
    "X_pred = autoencoder.predict(X)\n",
    "reconstruction_errors = np.mean(np.square(X_pred - X), axis=(1,2))\n",
    "final_threshold = np.mean(reconstruction_errors) + 3 * np.std(reconstruction_errors)\n",
    "print(\"최종 임계치:\", final_threshold)\n",
    "\n",
    "# 모델 저장 (예: 'autoencoder_model.h5')\n",
    "autoencoder.save('autoencoder_model.h5')\n",
    "\n",
    "# 임계치 저장 (pickle로 저장)\n",
    "with open('threshold.pkl', 'wb') as f:\n",
    "    pickle.dump(final_threshold, f)"
   ]
  }
 ],
 "metadata": {
  "kernelspec": {
   "display_name": "Python 3",
   "language": "python",
   "name": "python3"
  },
  "language_info": {
   "codemirror_mode": {
    "name": "ipython",
    "version": 3
   },
   "file_extension": ".py",
   "mimetype": "text/x-python",
   "name": "python",
   "nbconvert_exporter": "python",
   "pygments_lexer": "ipython3",
   "version": "3.11.9"
  }
 },
 "nbformat": 4,
 "nbformat_minor": 2
}
